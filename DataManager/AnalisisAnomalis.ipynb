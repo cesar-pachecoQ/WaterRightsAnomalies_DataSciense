{
 "cells": [
  {
   "cell_type": "code",
   "execution_count": 1,
   "id": "c5dbe9fc",
   "metadata": {},
   "outputs": [
    {
     "name": "stdout",
     "output_type": "stream",
     "text": [
      "Coloque su dedo en el lector de huellas dactilares\n",
      "vm.drop_caches = 3\n"
     ]
    }
   ],
   "source": [
    "def clear_memory():\n",
    "    !sudo sysctl -w vm.drop_caches=3\n",
    "clear_memory()"
   ]
  },
  {
   "cell_type": "code",
   "execution_count": 2,
   "id": "aea7199e",
   "metadata": {},
   "outputs": [],
   "source": [
    "import pandas as pd\n",
    "import polars as pl\n",
    "import ManipulateData\n",
    "import MetodoLexico\n",
    "import DataLoader_Polars\n",
    "from rapidfuzz import fuzz\n",
    "import jellyfish\n",
    "import re\n",
    "import matplotlib.pyplot as plt"
   ]
  },
  {
   "cell_type": "code",
   "execution_count": 3,
   "id": "6d1259ba",
   "metadata": {},
   "outputs": [],
   "source": [
    "data_loader = DataLoader_Polars.DataLoaderPolars(\"../DataSets_CSVs/DataSets_Parquets/\")\n",
    "df_concesiones = data_loader.load_concesiones()\n",
    "#manipulator = ManipulateData.ManipulateData(df_concesiones, \"\", \"\")"
   ]
  },
  {
   "cell_type": "code",
   "execution_count": 4,
   "id": "9ba0d48f",
   "metadata": {},
   "outputs": [],
   "source": [
    "titulares_unicos = df_concesiones.sort('titular').select('titular').unique()"
   ]
  },
  {
   "cell_type": "code",
   "execution_count": 5,
   "id": "be47292b",
   "metadata": {},
   "outputs": [],
   "source": [
    "def date_string_to_date(df):\n",
    "    month_map = {\n",
    "        \"enero\":1, \"febrero\":2, \"marzo\":3, \"abril\":4, \"mayo\":5, \"junio\":6,\n",
    "        \"julio\":7, \"agosto\":8, \"septiembre\":9, \"octubre\":10, \"noviembre\":11, \"diciembre\":12\n",
    "    }\n",
    "    df = (\n",
    "        df.with_columns(\n",
    "            ur_norm = pl.col(\"ultimo_registro\")\n",
    "                    .str.strip_chars()\n",
    "                    .str.replace_all(r\"\\s+\", \" \")\n",
    "                    .str.to_lowercase()\n",
    "        ).with_columns(\n",
    "            # extrae tokens \"mes\" y \"año\"\n",
    "            mes_txt = pl.col(\"ur_norm\").str.split(\" \").list.get(0),\n",
    "            anio    = pl.col(\"ur_norm\").str.split(\" \").list.get(-1).cast(pl.Int16)\n",
    "        ).with_columns(\n",
    "            mes = pl.col(\"mes_txt\").replace(month_map)\n",
    "        ).with_columns(\n",
    "            ultimo_registro = pl.date(pl.col(\"anio\"), pl.col(\"mes\"), pl.lit(1))\n",
    "        ).drop([\"ur_norm\",\"mes_txt\"])\n",
    "    )\n",
    "    return df"
   ]
  },
  {
   "cell_type": "code",
   "execution_count": 6,
   "id": "c2e6b46e",
   "metadata": {},
   "outputs": [],
   "source": [
    "df_concesiones = date_string_to_date(df_concesiones)"
   ]
  },
  {
   "cell_type": "code",
   "execution_count": 7,
   "id": "b786a159",
   "metadata": {},
   "outputs": [],
   "source": [
    "# Para truncar fechas que ya tienen tiempo\n",
    "df_concesiones = df_concesiones.with_columns(\n",
    "    pl.col('ultimo_registro').dt.date().alias('ultimo_registro')\n",
    ")"
   ]
  },
  {
   "cell_type": "code",
   "execution_count": 8,
   "id": "76889004",
   "metadata": {},
   "outputs": [],
   "source": [
    "#n_nombres_titulares_antes_estandarizar = len(df_concesiones.select('titular').unique())\n",
    "#n_nombres_titulares_antes_estandarizar"
   ]
  },
  {
   "cell_type": "code",
   "execution_count": 9,
   "id": "07979f19",
   "metadata": {},
   "outputs": [
    {
     "data": {
      "text/plain": [
       "\"\\ndf_concesiones = ManipulateData.ManipulateData(df_concesiones).estandarizar_titular('titular',\\n                                                                                    sin_espacios=False,\\n                                                                                    sin_stopword=True,\\n                                                                                    sin_terminos_mercantiles=True,\\n                                                                                    quitar_tokens_1_letra=True)\\n\""
      ]
     },
     "execution_count": 9,
     "metadata": {},
     "output_type": "execute_result"
    }
   ],
   "source": [
    "'''\n",
    "df_concesiones = ManipulateData.ManipulateData(df_concesiones).estandarizar_titular('titular',\n",
    "                                                                                    sin_espacios=False,\n",
    "                                                                                    sin_stopword=True,\n",
    "                                                                                    sin_terminos_mercantiles=True,\n",
    "                                                                                    quitar_tokens_1_letra=True)\n",
    "'''"
   ]
  },
  {
   "cell_type": "code",
   "execution_count": 10,
   "id": "1961c3da",
   "metadata": {},
   "outputs": [],
   "source": [
    "#n_nombres_titulares_despues_estandarizar = len(df_concesiones.select('titular').unique())\n",
    "#n_nombres_titulares_despues_estandarizar"
   ]
  },
  {
   "cell_type": "code",
   "execution_count": 11,
   "id": "cd5fd307",
   "metadata": {},
   "outputs": [],
   "source": [
    "# Seleccionar columnas en el orden deseado\n",
    "\n",
    "df_concesiones = df_concesiones.select([\n",
    "    'titulo', 'titular', 'ultimo_registro',\n",
    "    *[col for col in df_concesiones.columns if col not in ['titulo', 'titular', 'ultimo_registro']]\n",
    "])\n"
   ]
  },
  {
   "cell_type": "code",
   "execution_count": 12,
   "id": "65b27b07",
   "metadata": {},
   "outputs": [],
   "source": [
    "# Ordenar el DataFrame\n",
    "df_concesiones = df_concesiones.sort([\n",
    "    pl.col('titulo').count().over('titulo'),\n",
    "    'titular', \n",
    "    'ultimo_registro'\n",
    "], descending=[True, False, False])"
   ]
  },
  {
   "cell_type": "code",
   "execution_count": 13,
   "id": "1026d00a",
   "metadata": {},
   "outputs": [],
   "source": [
    "# Obtener información de títulos y titulares\n",
    "titulos_info = df_concesiones.group_by('titulo').agg([\n",
    "    pl.col('titular').n_unique().alias('N_titulares')\n",
    "]).sort('N_titulares', descending=True)\n",
    "\n"
   ]
  },
  {
   "cell_type": "code",
   "execution_count": 14,
   "id": "baf79837",
   "metadata": {},
   "outputs": [],
   "source": [
    "volumenes_totales_info = df_concesiones.group_by('titulo').agg([\n",
    "    pl.col('volumen_de_extraccion_anual_de_aguas_nacionales_que_ampara_el_titulo_en_m3').n_unique().alias('cambios_volumen'),\n",
    "    pl.col('volumen_de_extraccion_anual_de_aprovechamientos_subterraneos_en_m3').n_unique().alias('cambios_volumen_subterraneo'),\n",
    "    pl.col('volumen_de_extraccion_anual_de_aprovechamientos_superficiales_en_m3').n_unique().alias('cambios_volumen_superficial')\n",
    "])"
   ]
  },
  {
   "cell_type": "code",
   "execution_count": 15,
   "id": "e2843226",
   "metadata": {},
   "outputs": [],
   "source": [
    "periodos_info = df_concesiones.group_by('titulo').agg([\n",
    "    pl.col('ultimo_registro').n_unique().alias('cantidad_periodos'),\n",
    "    pl.col('ultimo_registro').unique().alias('periodos_presentes'),\n",
    "    pl.col('ultimo_registro').count().alias('N_cambios_ultimo_registro'),\n",
    "])"
   ]
  },
  {
   "cell_type": "code",
   "execution_count": 16,
   "id": "0c777704",
   "metadata": {},
   "outputs": [],
   "source": [
    "\n",
    "# Recrear df_anomalias con los datos\n",
    "df_anomalias = pl.DataFrame({\n",
    "    'titulo': titulos_info['titulo'].to_list(),\n",
    "    'N_titulares': titulos_info['N_titulares'].to_list(),\n",
    "    'Score': [None] * len(titulos_info),\n",
    "    'Diferente_titular': [None] * len(titulos_info),\n",
    "    'Caracteres_distintos': [None]* len(titulos_info),\n",
    "    'Cambios_en_20_periodos': periodos_info['N_cambios_ultimo_registro'].to_list(), # Cuantas veces aparece el registro en los 20 periodos\n",
    "    'Periodos': periodos_info['periodos_presentes'].to_list(), # aqui se ponen los periodos en los que hubieron cambios.\n",
    "    'Cantidad_periodos': periodos_info['cantidad_periodos'].to_list(), #Cuantos periodos hay en total en dicho registro\n",
    "    'Anomalia_V_Total': volumenes_totales_info['cambios_volumen'].to_list(),\n",
    "    'Anomalia_V_Subterraneo': volumenes_totales_info['cambios_volumen_subterraneo'].to_list(),\n",
    "    'Anomalia_V_Superficial': volumenes_totales_info['cambios_volumen_superficial'].to_list()\n",
    "})"
   ]
  },
  {
   "cell_type": "code",
   "execution_count": 17,
   "id": "6643c453",
   "metadata": {},
   "outputs": [
    {
     "data": {
      "text/plain": [
       "'\\ndef length_prefilter(a: str, b: str, base_abs: int = 5, rel_long: float = 0.50) -> bool:\\n    # Semántica: devuelve True si las longitudes son tan distintas\\n    # que podemos DESCARTAR el par sin seguir a métodos léxicos.\\n    L1 = len(a or \"\")\\n    L2 = len(b or \"\")\\n    Lmax = max(L1, L2)\\n    if Lmax <= 3:\\n        return False  # no decidas por longitud cuando son ultra cortos\\n\\n    # Umbral absoluto dinámico (20% de Lmax, al menos base_abs)\\n    abs_thr = max(base_abs, int(round(0.20 * Lmax)))\\n\\n    # Umbral relativo: más exigente en cortos\\n    rel_thr = 0.40 if Lmax < 10 else rel_long  # p.ej. 0.40 para cortos, 0.50 para largos\\n\\n    gap_abs = abs(L1 - L2)\\n    gap_rel = gap_abs / Lmax\\n\\n    return (gap_abs > abs_thr) and (gap_rel > rel_thr)\\n'"
      ]
     },
     "execution_count": 17,
     "metadata": {},
     "output_type": "execute_result"
    }
   ],
   "source": [
    "'''\n",
    "def length_prefilter(a: str, b: str, base_abs: int = 5, rel_long: float = 0.50) -> bool:\n",
    "    # Semántica: devuelve True si las longitudes son tan distintas\n",
    "    # que podemos DESCARTAR el par sin seguir a métodos léxicos.\n",
    "    L1 = len(a or \"\")\n",
    "    L2 = len(b or \"\")\n",
    "    Lmax = max(L1, L2)\n",
    "    if Lmax <= 3:\n",
    "        return False  # no decidas por longitud cuando son ultra cortos\n",
    "\n",
    "    # Umbral absoluto dinámico (20% de Lmax, al menos base_abs)\n",
    "    abs_thr = max(base_abs, int(round(0.20 * Lmax)))\n",
    "\n",
    "    # Umbral relativo: más exigente en cortos\n",
    "    rel_thr = 0.40 if Lmax < 10 else rel_long  # p.ej. 0.40 para cortos, 0.50 para largos\n",
    "\n",
    "    gap_abs = abs(L1 - L2)\n",
    "    gap_rel = gap_abs / Lmax\n",
    "\n",
    "    return (gap_abs > abs_thr) and (gap_rel > rel_thr)\n",
    "'''"
   ]
  },
  {
   "cell_type": "code",
   "execution_count": 18,
   "id": "50492477",
   "metadata": {},
   "outputs": [
    {
     "data": {
      "text/plain": [
       "'\\ndef score_y_clase(a:str, b:str):\\n    # Pre-filtrado por longitud\\n    if length_prefilter(a, b):\\n        return 0, 0\\n    else:\\n        #metricas\\n        ts = fuzz.token_set_ratio(a, b)\\n        jw = jellyfish.jaro_winkler_similarity(a, b) * 100\\n        score = (ts + jw) / 2\\n        #reglas    \\n        if ts >= 96 or (ts >= 93 and jw >= 93):\\n            clase = 1 #iguales\\n        elif ts < 90 or (ts < 85 and jw < 88):\\n            clase = 0 #diferentes\\n        else:\\n            clase = 2 \\n    return score, clase\\n'"
      ]
     },
     "execution_count": 18,
     "metadata": {},
     "output_type": "execute_result"
    }
   ],
   "source": [
    "'''\n",
    "def score_y_clase(a:str, b:str):\n",
    "    # Pre-filtrado por longitud\n",
    "    if length_prefilter(a, b):\n",
    "        return 0, 0\n",
    "    else:\n",
    "        #metricas\n",
    "        ts = fuzz.token_set_ratio(a, b)\n",
    "        jw = jellyfish.jaro_winkler_similarity(a, b) * 100\n",
    "        score = (ts + jw) / 2\n",
    "        #reglas    \n",
    "        if ts >= 96 or (ts >= 93 and jw >= 93):\n",
    "            clase = 1 #iguales\n",
    "        elif ts < 90 or (ts < 85 and jw < 88):\n",
    "            clase = 0 #diferentes\n",
    "        else:\n",
    "            clase = 2 \n",
    "    return score, clase\n",
    "'''"
   ]
  },
  {
   "cell_type": "code",
   "execution_count": 19,
   "id": "990c1d51",
   "metadata": {},
   "outputs": [],
   "source": [
    "def score_y_clase_wrapper(a: str, b: str):\n",
    "    \"\"\"Wrapper para usar MetodoLexico en lugar de la función score_y_clase\"\"\"\n",
    "    metodo = MetodoLexico.MetodoLexico(a, b)\n",
    "    return metodo.score_y_clase()\n"
   ]
  },
  {
   "cell_type": "code",
   "execution_count": 20,
   "id": "636dc646",
   "metadata": {},
   "outputs": [],
   "source": [
    "def get_all_metrics(a: str, b: str):\n",
    "    \"\"\"Función que retorna todos los valores de una vez para evitar múltiples instanciaciones\"\"\"\n",
    "    metodo = MetodoLexico.MetodoLexico(a, b)\n",
    "    score, clase, caracteres_conflictivos = metodo.score_y_clase()\n",
    "    return (score, clase, caracteres_conflictivos)\n"
   ]
  },
  {
   "cell_type": "code",
   "execution_count": 21,
   "id": "63644f1d",
   "metadata": {},
   "outputs": [],
   "source": [
    "# Títulos con exactamente 2 titulares únicos\n",
    "tit2 = (\n",
    "    df_concesiones\n",
    "    .select(['titulo','titular'])\n",
    "    .unique()\n",
    "    .group_by('titulo')\n",
    "    .agg(pl.col('titular').unique().alias('titulares'))\n",
    "    .with_columns(pl.col('titulares').list.len().alias('N_titulares'))\n",
    "    .filter(pl.col('N_titulares') == 2)\n",
    ")\n",
    "\n",
    "# Extrae pares (t1, t2)\n",
    "tit2_pairs = tit2.with_columns([\n",
    "    pl.col('titulares').list.get(0).alias('titular1'),\n",
    "    pl.col('titulares').list.get(1).alias('titular2')\n",
    "]).select(['titulo','titular1','titular2'])"
   ]
  },
  {
   "cell_type": "code",
   "execution_count": 22,
   "id": "b9356d42",
   "metadata": {},
   "outputs": [
    {
     "name": "stderr",
     "output_type": "stream",
     "text": [
      "/tmp/ipykernel_121295/3898457111.py:8: MapWithoutReturnDtypeWarning: 'return_dtype' of function python_udf must be set\n",
      "\n",
      "A later expression might fail because the output type is not known. Set return_dtype=pl.self_dtype() if the type is unchanged, or set the proper output data type.\n",
      "  .with_columns([\n"
     ]
    }
   ],
   "source": [
    "tit2_scored = (\n",
    "    tit2_pairs.with_columns([\n",
    "        pl.struct(['titular1','titular2']).map_elements(\n",
    "            lambda s: get_all_metrics(s['titular1'], s['titular2']),\n",
    "            return_dtype=pl.Object  # <- importante si all_metrics es tuple/list\n",
    "        ).alias('all_metrics')\n",
    "    ])\n",
    "    .with_columns([\n",
    "        pl.col('all_metrics').map_elements(lambda x: x[0]).alias('Score'),\n",
    "        pl.col('all_metrics').map_elements(lambda x: x[1]).alias('Diferente_titular'),\n",
    "        pl.col('all_metrics').map_elements(lambda x: x[2]).alias('Caracteres_distintos'),\n",
    "    ])\n",
    "    .drop('all_metrics')\n",
    ")\n"
   ]
  },
  {
   "cell_type": "code",
   "execution_count": 23,
   "id": "58b1285e",
   "metadata": {},
   "outputs": [],
   "source": [
    "df_anomalias = (\n",
    "    df_anomalias.drop(['Score','Diferente_titular', 'Caracteres_distintos'])  # Eliminar las columnas anteriores\n",
    "    .join(tit2_scored.select(['titulo','Score','Diferente_titular','Caracteres_distintos']), on='titulo', how='left')  # Incluir Caracteres_distintos\n",
    "    .select([\n",
    "        'titulo',\n",
    "        'N_titulares',\n",
    "        'Score',\n",
    "        'Diferente_titular',\n",
    "        'Caracteres_distintos',\n",
    "        'Cambios_en_20_periodos',\n",
    "        'Periodos',\n",
    "        'Cantidad_periodos',\n",
    "        'Anomalia_V_Total',\n",
    "        'Anomalia_V_Subterraneo',\n",
    "        'Anomalia_V_Superficial'\n",
    "    ])\n",
    ")"
   ]
  },
  {
   "cell_type": "code",
   "execution_count": 24,
   "id": "647e3339",
   "metadata": {},
   "outputs": [],
   "source": [
    "\n",
    "# fechas = df_concesiones.select('ultimo_registro').unique().sort('ultimo_registro')\n",
    "# titulos_list = df_concesiones.group_by('titulo').agg(pl.count()).sort('count', descending=True)\n",
    "# nombres_unicos_en_titulares = df_concesiones.sort('titular').select('titular').unique()\n",
    "# Distribución de títulos por frecuencia\n",
    "#dist_titulos_list = titulos_list.group_by('count').agg(pl.count().alias('frequency')).sort('count',descending=True)"
   ]
  },
  {
   "cell_type": "code",
   "execution_count": 25,
   "id": "18bef5b9",
   "metadata": {},
   "outputs": [
    {
     "data": {
      "text/plain": [
       "\"\\nplt.bar(dist_titulos_list['count'].to_list(), dist_titulos_list['frequency'].to_list())\\nplt.yscale('log')\\nplt.show()\\n\""
      ]
     },
     "execution_count": 25,
     "metadata": {},
     "output_type": "execute_result"
    }
   ],
   "source": [
    "'''\n",
    "plt.bar(dist_titulos_list['count'].to_list(), dist_titulos_list['frequency'].to_list())\n",
    "plt.yscale('log')\n",
    "plt.show()\n",
    "'''"
   ]
  },
  {
   "cell_type": "code",
   "execution_count": 27,
   "id": "869e339d",
   "metadata": {},
   "outputs": [
    {
     "name": "stdout",
     "output_type": "stream",
     "text": [
      "Coloque su dedo en el lector de huellas dactilares\n",
      "La huella no coincide\n",
      "Coloque su dedo en el lector de huellas dactilares\n",
      "vm.drop_caches = 3\n"
     ]
    }
   ],
   "source": [
    "clear_memory()"
   ]
  },
  {
   "cell_type": "code",
   "execution_count": 28,
   "id": "e19fa80e",
   "metadata": {},
   "outputs": [],
   "source": [
    "df_subterraneas = data_loader.load_subterraneas()"
   ]
  },
  {
   "cell_type": "code",
   "execution_count": 29,
   "id": "ef0af935",
   "metadata": {},
   "outputs": [],
   "source": [
    "df_superficiales = data_loader.load_superficiales()"
   ]
  }
 ],
 "metadata": {
  "kernelspec": {
   "display_name": "IberoProject1",
   "language": "python",
   "name": "python3"
  },
  "language_info": {
   "codemirror_mode": {
    "name": "ipython",
    "version": 3
   },
   "file_extension": ".py",
   "mimetype": "text/x-python",
   "name": "python",
   "nbconvert_exporter": "python",
   "pygments_lexer": "ipython3",
   "version": "3.10.18"
  }
 },
 "nbformat": 4,
 "nbformat_minor": 5
}
