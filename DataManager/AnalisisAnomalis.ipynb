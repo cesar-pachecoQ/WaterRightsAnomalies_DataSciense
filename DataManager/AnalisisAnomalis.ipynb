{
 "cells": [
  {
   "cell_type": "code",
   "execution_count": 1,
   "id": "aea7199e",
   "metadata": {},
   "outputs": [],
   "source": [
    "import pandas as pd\n",
    "import polars as pl\n",
    "import ManipulateData\n",
    "import DataLoader_Polars\n",
    "from rapidfuzz import fuzz\n",
    "import jellyfish\n",
    "import re\n",
    "import matplotlib.pyplot as plt"
   ]
  },
  {
   "cell_type": "code",
   "execution_count": 2,
   "id": "6d1259ba",
   "metadata": {},
   "outputs": [],
   "source": [
    "data_loader = DataLoader_Polars.DataLoaderPolars(\"../DataSets_CSVs/DataSets_Parquets/\")\n",
    "df_concesiones = data_loader.load_concesiones()\n",
    "manipulator = ManipulateData.ManipulateData(df_concesiones)"
   ]
  },
  {
   "cell_type": "code",
   "execution_count": 3,
   "id": "9ba0d48f",
   "metadata": {},
   "outputs": [],
   "source": [
    "titulares_unicos = df_concesiones.sort('titular').select('titular').unique()"
   ]
  },
  {
   "cell_type": "code",
   "execution_count": 4,
   "id": "76889004",
   "metadata": {},
   "outputs": [
    {
     "data": {
      "text/plain": [
       "544820"
      ]
     },
     "execution_count": 4,
     "metadata": {},
     "output_type": "execute_result"
    }
   ],
   "source": [
    "n_nombres_titulares_antes_estandarizar = len(df_concesiones.select('titular').unique())\n",
    "n_nombres_titulares_antes_estandarizar"
   ]
  },
  {
   "cell_type": "code",
   "execution_count": 5,
   "id": "07979f19",
   "metadata": {},
   "outputs": [],
   "source": [
    "#df_concesiones = ManipulateData.ManipulateData(df_concesiones).estandarizar_titular('titular',\n",
    "#                                                                                    sin_espacios=False,\n",
    "#                                                                                    sin_stopword=True,\n",
    "#                                                                                    sin_terminos_mercantiles=True,\n",
    "#                                                                                    quitar_tokens_1_letra=True)"
   ]
  },
  {
   "cell_type": "code",
   "execution_count": 6,
   "id": "1961c3da",
   "metadata": {},
   "outputs": [
    {
     "data": {
      "text/plain": [
       "544820"
      ]
     },
     "execution_count": 6,
     "metadata": {},
     "output_type": "execute_result"
    }
   ],
   "source": [
    "n_nombres_titulares_despues_estandarizar = len(df_concesiones.select('titular').unique())\n",
    "n_nombres_titulares_despues_estandarizar"
   ]
  },
  {
   "cell_type": "code",
   "execution_count": 7,
   "id": "2c39f4b8",
   "metadata": {},
   "outputs": [
    {
     "name": "stdout",
     "output_type": "stream",
     "text": [
      "0\n"
     ]
    }
   ],
   "source": [
    "print(n_nombres_titulares_antes_estandarizar - n_nombres_titulares_despues_estandarizar)"
   ]
  },
  {
   "cell_type": "code",
   "execution_count": 8,
   "id": "cd5fd307",
   "metadata": {},
   "outputs": [],
   "source": [
    "# Seleccionar columnas en el orden deseado\n",
    "\n",
    "df_concesiones = df_concesiones.select([\n",
    "    'titulo', 'titular', 'ultimo_registro',\n",
    "    *[col for col in df_concesiones.columns if col not in ['titulo', 'titular', 'ultimo_registro']]\n",
    "])\n"
   ]
  },
  {
   "cell_type": "code",
   "execution_count": 9,
   "id": "65b27b07",
   "metadata": {},
   "outputs": [],
   "source": [
    "# Ordenar el DataFrame\n",
    "df_concesiones = df_concesiones.sort([\n",
    "    pl.col('titulo').count().over('titulo'),\n",
    "    'titular', \n",
    "    'ultimo_registro'\n",
    "], descending=[True, False, False])"
   ]
  },
  {
   "cell_type": "code",
   "execution_count": 10,
   "id": "1026d00a",
   "metadata": {},
   "outputs": [],
   "source": [
    "# Obtener información de títulos y titulares\n",
    "titulos_info = df_concesiones.group_by('titulo').agg([\n",
    "    pl.col('titular').n_unique().alias('N_titulares')\n",
    "]).sort('N_titulares', descending=True)\n",
    "\n"
   ]
  },
  {
   "cell_type": "code",
   "execution_count": 11,
   "id": "baf79837",
   "metadata": {},
   "outputs": [],
   "source": [
    "volumenes_totales_info = df_concesiones.group_by('titulo').agg([\n",
    "    pl.col('volumen_de_extraccion_anual_de_aguas_nacionales_que_ampara_el_titulo_en_m3').n_unique().alias('cambios_volumen'),\n",
    "    pl.col('volumen_de_extraccion_anual_de_aprovechamientos_subterraneos_en_m3').n_unique().alias('cambios_volumen_subterraneo'),\n",
    "    pl.col('volumen_de_extraccion_anual_de_aprovechamientos_superficiales_en_m3').n_unique().alias('cambios_volumen_superficial')\n",
    "])"
   ]
  },
  {
   "cell_type": "code",
   "execution_count": 12,
   "id": "0c777704",
   "metadata": {},
   "outputs": [],
   "source": [
    "# Recrear df_anomalias con los datos\n",
    "df_anomalias = pl.DataFrame({\n",
    "    'titulo': titulos_info['titulo'].to_list(),\n",
    "    'N_titulares': titulos_info['N_titulares'].to_list(),\n",
    "    'Score': [None] * len(titulos_info),\n",
    "    'Diferente_titular': [None] * len(titulos_info),\n",
    "    'Anomalia_V_Total': volumenes_totales_info['cambios_volumen'].to_list(),\n",
    "    'Anomalia_V_Subterraneo': volumenes_totales_info['cambios_volumen_subterraneo'].to_list(),\n",
    "    'Anomalia_V_Superficial': volumenes_totales_info['cambios_volumen_superficial'].to_list()\n",
    "})"
   ]
  },
  {
   "cell_type": "code",
   "execution_count": 13,
   "id": "7fcb5e8d",
   "metadata": {},
   "outputs": [],
   "source": [
    "ALNUM = re.compile(r'[A-Z0-9]+')"
   ]
  },
  {
   "cell_type": "code",
   "execution_count": 22,
   "id": "681750cc",
   "metadata": {},
   "outputs": [
    {
     "data": {
      "text/html": [
       "<div><style>\n",
       ".dataframe > thead > tr,\n",
       ".dataframe > tbody > tr {\n",
       "  text-align: right;\n",
       "  white-space: pre-wrap;\n",
       "}\n",
       "</style>\n",
       "<small>shape: (10_441_899, 17)</small><table border=\"1\" class=\"dataframe\"><thead><tr><th>titulo</th><th>titular</th><th>ultimo_registro</th><th>uso_que_ampara_el_titulo</th><th>volumen_de_extraccion_anual_de_aguas_nacionales_que_ampara_el_titulo_en_m3</th><th>aprovechamientos_superficiales_que_ampara_el_titulo</th><th>volumen_de_extraccion_anual_de_aprovechamientos_superficiales_en_m3</th><th>aprovechamientos_subterraneos_que_ampara_el_titulo</th><th>volumen_de_extraccion_anual_de_aprovechamientos_subterraneos_en_m3</th><th>puntos_de_descarga_que_ampara_el_titulo</th><th>volumen_de_descarga_diario_en_m3</th><th>zonas_federales_que_ampara_el_titulo</th><th>superficie_en_m2</th><th>fecha_de_registro</th><th>fecha_de_inicio_de_vigencia</th><th>fecha_de_termino_de_vigencia</th><th>autoridad_que_emite_el_acto</th></tr><tr><td>str</td><td>str</td><td>str</td><td>str</td><td>f64</td><td>i64</td><td>f64</td><td>i64</td><td>f64</td><td>i64</td><td>f64</td><td>i64</td><td>f64</td><td>str</td><td>str</td><td>str</td><td>str</td></tr></thead><tbody><tr><td>&quot;11CHS128762/23GPGR99&quot;</td><td>&quot;DAGOBERTO ARMANDO OCHOA DIAZ&quot;</td><td>&quot;abril 2019&quot;</td><td>&quot;PECUARIO&quot;</td><td>2234.9</td><td>0</td><td>0.0</td><td>1</td><td>2234.9</td><td>0</td><td>0.0</td><td>0</td><td>0.0</td><td>&quot;2000-01-13&quot;</td><td>null</td><td>null</td><td>null</td></tr><tr><td>&quot;11CHS128762/23GPGR99&quot;</td><td>&quot;DAGOBERTO ARMANDO OCHOA DIAZ&quot;</td><td>&quot;agosto 2024&quot;</td><td>&quot;PECUARIO&quot;</td><td>2234.9</td><td>0</td><td>0.0</td><td>1</td><td>2234.9</td><td>0</td><td>0.0</td><td>0</td><td>0.0</td><td>&quot;2000-01-13&quot;</td><td>null</td><td>null</td><td>&quot;DIRECCIÓN GENERAL DEL ORGANISM…</td></tr><tr><td>&quot;11CHS128762/23GPGR99&quot;</td><td>&quot;DAGOBERTO ARMANDO OCHOA DIAZ&quot;</td><td>&quot;diciembre 2020&quot;</td><td>&quot;PECUARIO&quot;</td><td>2234.9</td><td>0</td><td>0.0</td><td>1</td><td>2234.9</td><td>0</td><td>0.0</td><td>0</td><td>0.0</td><td>&quot;2000-01-13&quot;</td><td>null</td><td>null</td><td>&quot;DIRECCION GENERAL DEL ORGANISM…</td></tr><tr><td>&quot;11CHS128762/23GPGR99&quot;</td><td>&quot;DAGOBERTO ARMANDO OCHOA DIAZ&quot;</td><td>&quot;diciembre 2021&quot;</td><td>&quot;PECUARIO&quot;</td><td>2234.9</td><td>0</td><td>0.0</td><td>1</td><td>2234.9</td><td>0</td><td>0.0</td><td>0</td><td>0.0</td><td>&quot;13-01-20&quot;</td><td>null</td><td>null</td><td>&quot;DIRECCIÓN GENERAL DEL ORGANISM…</td></tr><tr><td>&quot;11CHS128762/23GPGR99&quot;</td><td>&quot;DAGOBERTO ARMANDO OCHOA DIAZ&quot;</td><td>&quot;enero 2020&quot;</td><td>&quot;PECUARIO&quot;</td><td>2234.9</td><td>0</td><td>0.0</td><td>1</td><td>2234.9</td><td>0</td><td>0.0</td><td>0</td><td>0.0</td><td>&quot;2000-01-13&quot;</td><td>null</td><td>null</td><td>null</td></tr><tr><td>&hellip;</td><td>&hellip;</td><td>&hellip;</td><td>&hellip;</td><td>&hellip;</td><td>&hellip;</td><td>&hellip;</td><td>&hellip;</td><td>&hellip;</td><td>&hellip;</td><td>&hellip;</td><td>&hellip;</td><td>&hellip;</td><td>&hellip;</td><td>&hellip;</td><td>&hellip;</td><td>&hellip;</td></tr><tr><td>&quot;MOR155124&quot;</td><td>&quot;YOLANDA SEGURA ROSAS&quot;</td><td>&quot;marzo 2025&quot;</td><td>&quot;AGRÍCOLA&quot;</td><td>0.0</td><td>0</td><td>0.0</td><td>0</td><td>0.0</td><td>0</td><td>0.0</td><td>1</td><td>212.44</td><td>&quot;2015-02-04&quot;</td><td>null</td><td>null</td><td>&quot;ORGANISMO DE CUENCA BALSAS&quot;</td></tr><tr><td>&quot;GUA109671&quot;</td><td>&quot;YSMAEL ESPINOSA RICO&quot;</td><td>&quot;marzo 2025&quot;</td><td>&quot;AGRÍCOLA&quot;</td><td>36000.0</td><td>0</td><td>0.0</td><td>1</td><td>36000.0</td><td>0</td><td>0.0</td><td>0</td><td>0.0</td><td>&quot;1998-12-15&quot;</td><td>null</td><td>null</td><td>&quot;DIRECCION LOCAL GUANAJUATO&quot;</td></tr><tr><td>&quot;GUA120376&quot;</td><td>&quot;ZAAC S.A. DE C.V.&quot;</td><td>&quot;marzo 2025&quot;</td><td>&quot;AGRÍCOLA&quot;</td><td>240000.0</td><td>0</td><td>0.0</td><td>1</td><td>240000.0</td><td>0</td><td>0.0</td><td>0</td><td>0.0</td><td>&quot;2006-11-24&quot;</td><td>null</td><td>null</td><td>&quot;DIRECCION LOCAL GUANAJUATO&quot;</td></tr><tr><td>&quot;VER157551&quot;</td><td>&quot;ZENEN EFREN ALONSO AGUILAR&quot;</td><td>&quot;marzo 2025&quot;</td><td>&quot;AGRÍCOLA&quot;</td><td>15552.0</td><td>0</td><td>0.0</td><td>1</td><td>15552.0</td><td>0</td><td>0.0</td><td>0</td><td>0.0</td><td>&quot;2015-11-24&quot;</td><td>null</td><td>null</td><td>&quot;ORGANISMO DE CUENCA GOLFO CENT…</td></tr><tr><td>&quot;08COL107690/15EPDL14&quot;</td><td>&quot;ZETA GAS DEL PACIFICO S A DE C…</td><td>&quot;abril 2019&quot;</td><td>&quot;SERVICIOS&quot;</td><td>22969.0</td><td>0</td><td>0.0</td><td>1</td><td>22969.0</td><td>0</td><td>0.0</td><td>0</td><td>0.0</td><td>&quot;2014-09-25&quot;</td><td>null</td><td>null</td><td>null</td></tr></tbody></table></div>"
      ],
      "text/plain": [
       "shape: (10_441_899, 17)\n",
       "┌───────────┬───────────┬───────────┬───────────┬───┬───────────┬───────────┬───────────┬──────────┐\n",
       "│ titulo    ┆ titular   ┆ ultimo_re ┆ uso_que_a ┆ … ┆ fecha_de_ ┆ fecha_de_ ┆ fecha_de_ ┆ autorida │\n",
       "│ ---       ┆ ---       ┆ gistro    ┆ mpara_el_ ┆   ┆ registro  ┆ inicio_de ┆ termino_d ┆ d_que_em │\n",
       "│ str       ┆ str       ┆ ---       ┆ titulo    ┆   ┆ ---       ┆ _vigencia ┆ e_vigenci ┆ ite_el_a │\n",
       "│           ┆           ┆ str       ┆ ---       ┆   ┆ str       ┆ ---       ┆ a         ┆ cto      │\n",
       "│           ┆           ┆           ┆ str       ┆   ┆           ┆ str       ┆ ---       ┆ ---      │\n",
       "│           ┆           ┆           ┆           ┆   ┆           ┆           ┆ str       ┆ str      │\n",
       "╞═══════════╪═══════════╪═══════════╪═══════════╪═══╪═══════════╪═══════════╪═══════════╪══════════╡\n",
       "│ 11CHS1287 ┆ DAGOBERTO ┆ abril     ┆ PECUARIO  ┆ … ┆ 2000-01-1 ┆ null      ┆ null      ┆ null     │\n",
       "│ 62/23GPGR ┆ ARMANDO   ┆ 2019      ┆           ┆   ┆ 3         ┆           ┆           ┆          │\n",
       "│ 99        ┆ OCHOA     ┆           ┆           ┆   ┆           ┆           ┆           ┆          │\n",
       "│           ┆ DIAZ      ┆           ┆           ┆   ┆           ┆           ┆           ┆          │\n",
       "│ 11CHS1287 ┆ DAGOBERTO ┆ agosto    ┆ PECUARIO  ┆ … ┆ 2000-01-1 ┆ null      ┆ null      ┆ DIRECCIÓ │\n",
       "│ 62/23GPGR ┆ ARMANDO   ┆ 2024      ┆           ┆   ┆ 3         ┆           ┆           ┆ N        │\n",
       "│ 99        ┆ OCHOA     ┆           ┆           ┆   ┆           ┆           ┆           ┆ GENERAL  │\n",
       "│           ┆ DIAZ      ┆           ┆           ┆   ┆           ┆           ┆           ┆ DEL ORGA │\n",
       "│           ┆           ┆           ┆           ┆   ┆           ┆           ┆           ┆ NISM…    │\n",
       "│ 11CHS1287 ┆ DAGOBERTO ┆ diciembre ┆ PECUARIO  ┆ … ┆ 2000-01-1 ┆ null      ┆ null      ┆ DIRECCIO │\n",
       "│ 62/23GPGR ┆ ARMANDO   ┆ 2020      ┆           ┆   ┆ 3         ┆           ┆           ┆ N        │\n",
       "│ 99        ┆ OCHOA     ┆           ┆           ┆   ┆           ┆           ┆           ┆ GENERAL  │\n",
       "│           ┆ DIAZ      ┆           ┆           ┆   ┆           ┆           ┆           ┆ DEL ORGA │\n",
       "│           ┆           ┆           ┆           ┆   ┆           ┆           ┆           ┆ NISM…    │\n",
       "│ 11CHS1287 ┆ DAGOBERTO ┆ diciembre ┆ PECUARIO  ┆ … ┆ 13-01-20  ┆ null      ┆ null      ┆ DIRECCIÓ │\n",
       "│ 62/23GPGR ┆ ARMANDO   ┆ 2021      ┆           ┆   ┆           ┆           ┆           ┆ N        │\n",
       "│ 99        ┆ OCHOA     ┆           ┆           ┆   ┆           ┆           ┆           ┆ GENERAL  │\n",
       "│           ┆ DIAZ      ┆           ┆           ┆   ┆           ┆           ┆           ┆ DEL ORGA │\n",
       "│           ┆           ┆           ┆           ┆   ┆           ┆           ┆           ┆ NISM…    │\n",
       "│ 11CHS1287 ┆ DAGOBERTO ┆ enero     ┆ PECUARIO  ┆ … ┆ 2000-01-1 ┆ null      ┆ null      ┆ null     │\n",
       "│ 62/23GPGR ┆ ARMANDO   ┆ 2020      ┆           ┆   ┆ 3         ┆           ┆           ┆          │\n",
       "│ 99        ┆ OCHOA     ┆           ┆           ┆   ┆           ┆           ┆           ┆          │\n",
       "│           ┆ DIAZ      ┆           ┆           ┆   ┆           ┆           ┆           ┆          │\n",
       "│ …         ┆ …         ┆ …         ┆ …         ┆ … ┆ …         ┆ …         ┆ …         ┆ …        │\n",
       "│ MOR155124 ┆ YOLANDA   ┆ marzo     ┆ AGRÍCOLA  ┆ … ┆ 2015-02-0 ┆ null      ┆ null      ┆ ORGANISM │\n",
       "│           ┆ SEGURA    ┆ 2025      ┆           ┆   ┆ 4         ┆           ┆           ┆ O DE     │\n",
       "│           ┆ ROSAS     ┆           ┆           ┆   ┆           ┆           ┆           ┆ CUENCA   │\n",
       "│           ┆           ┆           ┆           ┆   ┆           ┆           ┆           ┆ BALSAS   │\n",
       "│ GUA109671 ┆ YSMAEL    ┆ marzo     ┆ AGRÍCOLA  ┆ … ┆ 1998-12-1 ┆ null      ┆ null      ┆ DIRECCIO │\n",
       "│           ┆ ESPINOSA  ┆ 2025      ┆           ┆   ┆ 5         ┆           ┆           ┆ N LOCAL  │\n",
       "│           ┆ RICO      ┆           ┆           ┆   ┆           ┆           ┆           ┆ GUANAJUA │\n",
       "│           ┆           ┆           ┆           ┆   ┆           ┆           ┆           ┆ TO       │\n",
       "│ GUA120376 ┆ ZAAC S.A. ┆ marzo     ┆ AGRÍCOLA  ┆ … ┆ 2006-11-2 ┆ null      ┆ null      ┆ DIRECCIO │\n",
       "│           ┆ DE C.V.   ┆ 2025      ┆           ┆   ┆ 4         ┆           ┆           ┆ N LOCAL  │\n",
       "│           ┆           ┆           ┆           ┆   ┆           ┆           ┆           ┆ GUANAJUA │\n",
       "│           ┆           ┆           ┆           ┆   ┆           ┆           ┆           ┆ TO       │\n",
       "│ VER157551 ┆ ZENEN     ┆ marzo     ┆ AGRÍCOLA  ┆ … ┆ 2015-11-2 ┆ null      ┆ null      ┆ ORGANISM │\n",
       "│           ┆ EFREN     ┆ 2025      ┆           ┆   ┆ 4         ┆           ┆           ┆ O DE     │\n",
       "│           ┆ ALONSO    ┆           ┆           ┆   ┆           ┆           ┆           ┆ CUENCA   │\n",
       "│           ┆ AGUILAR   ┆           ┆           ┆   ┆           ┆           ┆           ┆ GOLFO    │\n",
       "│           ┆           ┆           ┆           ┆   ┆           ┆           ┆           ┆ CENT…    │\n",
       "│ 08COL1076 ┆ ZETA GAS  ┆ abril     ┆ SERVICIOS ┆ … ┆ 2014-09-2 ┆ null      ┆ null      ┆ null     │\n",
       "│ 90/15EPDL ┆ DEL       ┆ 2019      ┆           ┆   ┆ 5         ┆           ┆           ┆          │\n",
       "│ 14        ┆ PACIFICO  ┆           ┆           ┆   ┆           ┆           ┆           ┆          │\n",
       "│           ┆ S A DE C… ┆           ┆           ┆   ┆           ┆           ┆           ┆          │\n",
       "└───────────┴───────────┴───────────┴───────────┴───┴───────────┴───────────┴───────────┴──────────┘"
      ]
     },
     "execution_count": 22,
     "metadata": {},
     "output_type": "execute_result"
    }
   ],
   "source": [
    "df_concesiones"
   ]
  },
  {
   "cell_type": "code",
   "execution_count": null,
   "id": "50492477",
   "metadata": {},
   "outputs": [],
   "source": [
    "def score_y_clase(a:str, b:str):\n",
    "    #metricas\n",
    "    ts = fuzz.token_set_ratio(a, b)\n",
    "    jw = jellyfish.jaro_winkler_similarity(a, b) * 100\n",
    "    score = (ts + jw) / 2\n",
    "    \n",
    "    #reglas\n",
    "    if ts >= 96 or (ts >= 93 and jw >= 93):\n",
    "        clase = 1 #iguales\n",
    "    elif ts < 90 or (ts < 85 and jw < 88):\n",
    "        clase = 0 #diferentes\n",
    "    else:\n",
    "        clase = 2 \n",
    "    return score, clase"
   ]
  },
  {
   "cell_type": "code",
   "execution_count": 15,
   "id": "63644f1d",
   "metadata": {},
   "outputs": [],
   "source": [
    "# Títulos con exactamente 2 titulares únicos\n",
    "tit2 = (\n",
    "    df_concesiones\n",
    "    .select(['titulo','titular'])\n",
    "    .unique()\n",
    "    .group_by('titulo')\n",
    "    .agg(pl.col('titular').unique().alias('titulares'))\n",
    "    .with_columns(pl.col('titulares').list.len().alias('N_titulares'))\n",
    "    .filter(pl.col('N_titulares') == 2)\n",
    ")\n",
    "\n",
    "# Extrae pares (t1, t2)\n",
    "tit2_pairs = tit2.with_columns([\n",
    "    pl.col('titulares').list.get(0).alias('titular1'),\n",
    "    pl.col('titulares').list.get(1).alias('titular2')\n",
    "]).select(['titulo','titular1','titular2'])"
   ]
  },
  {
   "cell_type": "code",
   "execution_count": 16,
   "id": "b9356d42",
   "metadata": {},
   "outputs": [
    {
     "name": "stderr",
     "output_type": "stream",
     "text": [
      "/tmp/ipykernel_36234/2404338928.py:1: MapWithoutReturnDtypeWarning: 'return_dtype' of function python_udf must be set\n",
      "\n",
      "A later expression might fail because the output type is not known. Set return_dtype=pl.self_dtype() if the type is unchanged, or set the proper output data type.\n",
      "  tit2_scored = tit2_pairs.with_columns([\n"
     ]
    }
   ],
   "source": [
    "tit2_scored = tit2_pairs.with_columns([\n",
    "    pl.struct(['titular1','titular2']).map_elements(\n",
    "        lambda s: score_y_clase(s['titular1'], s['titular2'])[0]\n",
    "    ).alias('Score'),\n",
    "    pl.struct(['titular1','titular2']).map_elements(\n",
    "        lambda s: score_y_clase(s['titular1'], s['titular2'])[1]\n",
    "    ).alias('Diferente_titular')\n",
    "])"
   ]
  },
  {
   "cell_type": "code",
   "execution_count": 21,
   "id": "e58ab0de",
   "metadata": {},
   "outputs": [
    {
     "data": {
      "text/html": [
       "<div><style>\n",
       ".dataframe > thead > tr,\n",
       ".dataframe > tbody > tr {\n",
       "  text-align: right;\n",
       "  white-space: pre-wrap;\n",
       "}\n",
       "</style>\n",
       "<small>shape: (10_441_899, 1)</small><table border=\"1\" class=\"dataframe\"><thead><tr><th>ultimo_registro</th></tr><tr><td>str</td></tr></thead><tbody><tr><td>&quot;abril 2019&quot;</td></tr><tr><td>&quot;agosto 2024&quot;</td></tr><tr><td>&quot;diciembre 2020&quot;</td></tr><tr><td>&quot;diciembre 2021&quot;</td></tr><tr><td>&quot;enero 2020&quot;</td></tr><tr><td>&hellip;</td></tr><tr><td>&quot;marzo 2025&quot;</td></tr><tr><td>&quot;marzo 2025&quot;</td></tr><tr><td>&quot;marzo 2025&quot;</td></tr><tr><td>&quot;marzo 2025&quot;</td></tr><tr><td>&quot;abril 2019&quot;</td></tr></tbody></table></div>"
      ],
      "text/plain": [
       "shape: (10_441_899, 1)\n",
       "┌─────────────────┐\n",
       "│ ultimo_registro │\n",
       "│ ---             │\n",
       "│ str             │\n",
       "╞═════════════════╡\n",
       "│ abril 2019      │\n",
       "│ agosto 2024     │\n",
       "│ diciembre 2020  │\n",
       "│ diciembre 2021  │\n",
       "│ enero 2020      │\n",
       "│ …               │\n",
       "│ marzo 2025      │\n",
       "│ marzo 2025      │\n",
       "│ marzo 2025      │\n",
       "│ marzo 2025      │\n",
       "│ abril 2019      │\n",
       "└─────────────────┘"
      ]
     },
     "execution_count": 21,
     "metadata": {},
     "output_type": "execute_result"
    }
   ],
   "source": [
    "df_concesiones.select('ultimo_registro')"
   ]
  },
  {
   "cell_type": "code",
   "execution_count": 17,
   "id": "58b1285e",
   "metadata": {},
   "outputs": [],
   "source": [
    "df_anomalias = (\n",
    "    df_anomalias.drop(['Score','Diferente_titular'])\n",
    "    .join(tit2_scored.select(['titulo','Score','Diferente_titular']), on='titulo', how='left')\n",
    "    .select([\n",
    "        'titulo',\n",
    "        'N_titulares',\n",
    "        'Score',\n",
    "        'Diferente_titular', \n",
    "        'Anomalia_V_Total',\n",
    "        'Anomalia_V_Subterraneo',\n",
    "        'Anomalia_V_Superficial'\n",
    "    ])\n",
    ")"
   ]
  },
  {
   "cell_type": "code",
   "execution_count": 18,
   "id": "fbe67eb4",
   "metadata": {},
   "outputs": [
    {
     "data": {
      "text/html": [
       "<div><style>\n",
       ".dataframe > thead > tr,\n",
       ".dataframe > tbody > tr {\n",
       "  text-align: right;\n",
       "  white-space: pre-wrap;\n",
       "}\n",
       "</style>\n",
       "<small>shape: (592_469, 7)</small><table border=\"1\" class=\"dataframe\"><thead><tr><th>titulo</th><th>N_titulares</th><th>Score</th><th>Diferente_titular</th><th>Anomalia_V_Total</th><th>Anomalia_V_Subterraneo</th><th>Anomalia_V_Superficial</th></tr><tr><td>str</td><td>i64</td><td>f64</td><td>i64</td><td>i64</td><td>i64</td><td>i64</td></tr></thead><tbody><tr><td>&quot;810978&quot;</td><td>7</td><td>null</td><td>null</td><td>1</td><td>1</td><td>1</td></tr><tr><td>&quot;04MOR104010/18AMDA15&quot;</td><td>6</td><td>null</td><td>null</td><td>1</td><td>1</td><td>1</td></tr><tr><td>&quot;824314&quot;</td><td>6</td><td>null</td><td>null</td><td>1</td><td>1</td><td>1</td></tr><tr><td>&quot;815222&quot;</td><td>6</td><td>null</td><td>null</td><td>1</td><td>1</td><td>1</td></tr><tr><td>&quot;GUA106928&quot;</td><td>6</td><td>null</td><td>null</td><td>1</td><td>1</td><td>1</td></tr><tr><td>&hellip;</td><td>&hellip;</td><td>&hellip;</td><td>&hellip;</td><td>&hellip;</td><td>&hellip;</td><td>&hellip;</td></tr><tr><td>&quot;10VER132526/28APGR04&quot;</td><td>1</td><td>null</td><td>null</td><td>1</td><td>1</td><td>1</td></tr><tr><td>&quot;08GUA102539/12AMGE06&quot;</td><td>1</td><td>null</td><td>null</td><td>1</td><td>1</td><td>1</td></tr><tr><td>&quot;08GUA115736/12AMDL14&quot;</td><td>1</td><td>null</td><td>null</td><td>1</td><td>1</td><td>1</td></tr><tr><td>&quot;6CHS102383/30GBGE96&quot;</td><td>1</td><td>null</td><td>null</td><td>1</td><td>1</td><td>1</td></tr><tr><td>&quot;NAY155241&quot;</td><td>1</td><td>null</td><td>null</td><td>1</td><td>1</td><td>1</td></tr></tbody></table></div>"
      ],
      "text/plain": [
       "shape: (592_469, 7)\n",
       "┌───────────────┬─────────────┬───────┬───────────────┬──────────────┬──────────────┬──────────────┐\n",
       "│ titulo        ┆ N_titulares ┆ Score ┆ Diferente_tit ┆ Anomalia_V_T ┆ Anomalia_V_S ┆ Anomalia_V_S │\n",
       "│ ---           ┆ ---         ┆ ---   ┆ ular          ┆ otal         ┆ ubterraneo   ┆ uperficial   │\n",
       "│ str           ┆ i64         ┆ f64   ┆ ---           ┆ ---          ┆ ---          ┆ ---          │\n",
       "│               ┆             ┆       ┆ i64           ┆ i64          ┆ i64          ┆ i64          │\n",
       "╞═══════════════╪═════════════╪═══════╪═══════════════╪══════════════╪══════════════╪══════════════╡\n",
       "│ 810978        ┆ 7           ┆ null  ┆ null          ┆ 1            ┆ 1            ┆ 1            │\n",
       "│ 04MOR104010/1 ┆ 6           ┆ null  ┆ null          ┆ 1            ┆ 1            ┆ 1            │\n",
       "│ 8AMDA15       ┆             ┆       ┆               ┆              ┆              ┆              │\n",
       "│ 824314        ┆ 6           ┆ null  ┆ null          ┆ 1            ┆ 1            ┆ 1            │\n",
       "│ 815222        ┆ 6           ┆ null  ┆ null          ┆ 1            ┆ 1            ┆ 1            │\n",
       "│ GUA106928     ┆ 6           ┆ null  ┆ null          ┆ 1            ┆ 1            ┆ 1            │\n",
       "│ …             ┆ …           ┆ …     ┆ …             ┆ …            ┆ …            ┆ …            │\n",
       "│ 10VER132526/2 ┆ 1           ┆ null  ┆ null          ┆ 1            ┆ 1            ┆ 1            │\n",
       "│ 8APGR04       ┆             ┆       ┆               ┆              ┆              ┆              │\n",
       "│ 08GUA102539/1 ┆ 1           ┆ null  ┆ null          ┆ 1            ┆ 1            ┆ 1            │\n",
       "│ 2AMGE06       ┆             ┆       ┆               ┆              ┆              ┆              │\n",
       "│ 08GUA115736/1 ┆ 1           ┆ null  ┆ null          ┆ 1            ┆ 1            ┆ 1            │\n",
       "│ 2AMDL14       ┆             ┆       ┆               ┆              ┆              ┆              │\n",
       "│ 6CHS102383/30 ┆ 1           ┆ null  ┆ null          ┆ 1            ┆ 1            ┆ 1            │\n",
       "│ GBGE96        ┆             ┆       ┆               ┆              ┆              ┆              │\n",
       "│ NAY155241     ┆ 1           ┆ null  ┆ null          ┆ 1            ┆ 1            ┆ 1            │\n",
       "└───────────────┴─────────────┴───────┴───────────────┴──────────────┴──────────────┴──────────────┘"
      ]
     },
     "execution_count": 18,
     "metadata": {},
     "output_type": "execute_result"
    }
   ],
   "source": [
    "df_anomalias"
   ]
  },
  {
   "cell_type": "code",
   "execution_count": 19,
   "id": "647e3339",
   "metadata": {},
   "outputs": [],
   "source": [
    "\n",
    "# fechas = df_concesiones.select('ultimo_registro').unique().sort('ultimo_registro')\n",
    "# titulos_list = df_concesiones.group_by('titulo').agg(pl.count()).sort('count', descending=True)\n",
    "# nombres_unicos_en_titulares = df_concesiones.sort('titular').select('titular').unique()\n",
    "# Distribución de títulos por frecuencia\n",
    "#dist_titulos_list = titulos_list.group_by('count').agg(pl.count().alias('frequency')).sort('count',descending=True)"
   ]
  },
  {
   "cell_type": "code",
   "execution_count": 20,
   "id": "18bef5b9",
   "metadata": {},
   "outputs": [
    {
     "data": {
      "text/plain": [
       "\"\\nplt.bar(dist_titulos_list['count'].to_list(), dist_titulos_list['frequency'].to_list())\\nplt.yscale('log')\\nplt.show()\\n\""
      ]
     },
     "execution_count": 20,
     "metadata": {},
     "output_type": "execute_result"
    }
   ],
   "source": [
    "'''\n",
    "plt.bar(dist_titulos_list['count'].to_list(), dist_titulos_list['frequency'].to_list())\n",
    "plt.yscale('log')\n",
    "plt.show()\n",
    "'''"
   ]
  }
 ],
 "metadata": {
  "kernelspec": {
   "display_name": "IberoProject1",
   "language": "python",
   "name": "python3"
  },
  "language_info": {
   "codemirror_mode": {
    "name": "ipython",
    "version": 3
   },
   "file_extension": ".py",
   "mimetype": "text/x-python",
   "name": "python",
   "nbconvert_exporter": "python",
   "pygments_lexer": "ipython3",
   "version": "3.10.18"
  }
 },
 "nbformat": 4,
 "nbformat_minor": 5
}
