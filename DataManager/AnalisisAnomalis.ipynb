{
 "cells": [
  {
   "cell_type": "code",
   "execution_count": 1,
   "id": "c5dbe9fc",
   "metadata": {},
   "outputs": [
    {
     "name": "stdout",
     "output_type": "stream",
     "text": [
      "Coloque su dedo en el lector de huellas dactilares\n",
      "vm.drop_caches = 3\n"
     ]
    }
   ],
   "source": [
    "\n",
    "def clear_memory():\n",
    "    !sudo sysctl -w vm.drop_caches=3\n",
    "clear_memory()\n"
   ]
  },
  {
   "cell_type": "code",
   "execution_count": 2,
   "id": "aea7199e",
   "metadata": {},
   "outputs": [],
   "source": [
    "import pandas as pd\n",
    "import polars as pl\n",
    "import ManipulateData\n",
    "import MetodoLexico\n",
    "import DataLoader_Polars\n",
    "from rapidfuzz import fuzz\n",
    "#import jellyfish\n",
    "#import re\n"
   ]
  },
  {
   "cell_type": "code",
   "execution_count": 3,
   "id": "6d1259ba",
   "metadata": {},
   "outputs": [],
   "source": [
    "data_loader = DataLoader_Polars.DataLoaderPolars(\"../DataSets_CSVs/DataSets_Parquets/\")\n",
    "df_concesiones = data_loader.load_concesiones()\n",
    "manipulator = ManipulateData.ManipulateData(df_concesiones, \"\", \"\")"
   ]
  },
  {
   "cell_type": "code",
   "execution_count": 4,
   "id": "9ba0d48f",
   "metadata": {},
   "outputs": [
    {
     "data": {
      "text/plain": [
       "\"\\n#Para buscar cuales pueden ser las metricas y metodos lexicos correctos a utilizar hacemos una extracción de los titulares únicos a los que nos enfrentamos\\ntitulares_unicos = df_concesiones.sort('titular').select('titular').unique()\\n\""
      ]
     },
     "execution_count": 4,
     "metadata": {},
     "output_type": "execute_result"
    }
   ],
   "source": [
    "'''\n",
    "#Para buscar cuales pueden ser las metricas y metodos lexicos correctos a utilizar hacemos una extracción de los titulares únicos a los que nos enfrentamos\n",
    "titulares_unicos = df_concesiones.sort('titular').select('titular').unique()\n",
    "'''"
   ]
  },
  {
   "cell_type": "markdown",
   "id": "9086f6e4",
   "metadata": {},
   "source": [
    "---\n",
    "## Análisis de anomlias en el df_concesiones relaciondas con el cambio de Titulares\n",
    "---"
   ]
  },
  {
   "cell_type": "code",
   "execution_count": 5,
   "id": "769aa9c9",
   "metadata": {},
   "outputs": [],
   "source": [
    "df_concesiones = manipulator.date_string_to_date(df_concesiones)"
   ]
  },
  {
   "cell_type": "code",
   "execution_count": 6,
   "id": "b786a159",
   "metadata": {},
   "outputs": [],
   "source": [
    "# Para truncar fechas que ya tienen tiempo\n",
    "df_concesiones = df_concesiones.with_columns(\n",
    "    pl.col('ultimo_registro').dt.date().alias('ultimo_registro')\n",
    ")"
   ]
  },
  {
   "cell_type": "code",
   "execution_count": 7,
   "id": "76889004",
   "metadata": {},
   "outputs": [],
   "source": [
    "#n_nombres_titulares_antes_estandarizar = len(df_concesiones.select('titular').unique())\n",
    "#n_nombres_titulares_antes_estandarizar"
   ]
  },
  {
   "cell_type": "code",
   "execution_count": 8,
   "id": "07979f19",
   "metadata": {},
   "outputs": [
    {
     "data": {
      "text/plain": [
       "\"\\n#Para un segundo enfoque podemos normalizar los textos de los titulares con diferentes parámetros\\n\\ndf_concesiones = ManipulateData.ManipulateData(df_concesiones).estandarizar_titular('titular',\\n                                                                                    sin_espacios=False,\\n                                                                                    sin_stopword=True,\\n                                                                                    sin_terminos_mercantiles=True,\\n                                                                                    quitar_tokens_1_letra=True)\\n\""
      ]
     },
     "execution_count": 8,
     "metadata": {},
     "output_type": "execute_result"
    }
   ],
   "source": [
    "'''\n",
    "#Para un segundo enfoque podemos normalizar los textos de los titulares con diferentes parámetros\n",
    "\n",
    "df_concesiones = ManipulateData.ManipulateData(df_concesiones).estandarizar_titular('titular',\n",
    "                                                                                    sin_espacios=False,\n",
    "                                                                                    sin_stopword=True,\n",
    "                                                                                    sin_terminos_mercantiles=True,\n",
    "                                                                                    quitar_tokens_1_letra=True)\n",
    "'''"
   ]
  },
  {
   "cell_type": "code",
   "execution_count": 9,
   "id": "1961c3da",
   "metadata": {},
   "outputs": [],
   "source": [
    "#n_nombres_titulares_despues_estandarizar = len(df_concesiones.select('titular').unique())\n",
    "#n_nombres_titulares_despues_estandarizar"
   ]
  },
  {
   "cell_type": "code",
   "execution_count": 10,
   "id": "cd5fd307",
   "metadata": {},
   "outputs": [],
   "source": [
    "# Seleccionar columnas en el orden deseado\n",
    "\n",
    "df_concesiones = df_concesiones.select([\n",
    "    'titulo', 'titular', 'ultimo_registro',\n",
    "    *[col for col in df_concesiones.columns if col not in ['titulo', 'titular', 'ultimo_registro']]\n",
    "])\n"
   ]
  },
  {
   "cell_type": "code",
   "execution_count": 11,
   "id": "65b27b07",
   "metadata": {},
   "outputs": [],
   "source": [
    "# Ordenar el DataFrame\n",
    "df_concesiones = df_concesiones.sort([\n",
    "    pl.col('titulo').count().over('titulo'),\n",
    "    'titular', \n",
    "    'ultimo_registro'\n",
    "], descending=[True, False, False])"
   ]
  },
  {
   "cell_type": "code",
   "execution_count": 12,
   "id": "1026d00a",
   "metadata": {},
   "outputs": [],
   "source": [
    "# Obtener información de títulos y titulares\n",
    "titulos_info = df_concesiones.group_by('titulo').agg([\n",
    "    pl.col('titular').n_unique().alias('N_titulares')\n",
    "]).sort('N_titulares', descending=True)\n",
    "\n"
   ]
  },
  {
   "cell_type": "markdown",
   "id": "9b37ab02",
   "metadata": {},
   "source": [
    "---\n",
    "##### Analisis de cambios de  volumenes"
   ]
  },
  {
   "cell_type": "code",
   "execution_count": 13,
   "id": "baf79837",
   "metadata": {},
   "outputs": [],
   "source": [
    "volumenes_totales_info = df_concesiones.group_by('titulo').agg([\n",
    "    pl.col('volumen_de_extraccion_anual_de_aguas_nacionales_que_ampara_el_titulo_en_m3').n_unique().alias('cambios_volumen'),\n",
    "    pl.col('volumen_de_extraccion_anual_de_aprovechamientos_subterraneos_en_m3').n_unique().alias('cambios_volumen_subterraneo'),\n",
    "    pl.col('volumen_de_extraccion_anual_de_aprovechamientos_superficiales_en_m3').n_unique().alias('cambios_volumen_superficial')\n",
    "])"
   ]
  },
  {
   "cell_type": "markdown",
   "id": "f0239472",
   "metadata": {},
   "source": [
    "---\n",
    "##### Analisis de la la cantidad de periodos y cantidad de cambios"
   ]
  },
  {
   "cell_type": "code",
   "execution_count": 14,
   "id": "e2843226",
   "metadata": {},
   "outputs": [],
   "source": [
    "periodos_info = df_concesiones.group_by('titulo').agg([\n",
    "    pl.col('ultimo_registro').n_unique().alias('cantidad_periodos'),\n",
    "    pl.col('ultimo_registro').unique().alias('periodos_presentes'),\n",
    "    pl.col('ultimo_registro').count().alias('N_cambios_ultimo_registro'),\n",
    "])"
   ]
  },
  {
   "cell_type": "code",
   "execution_count": 15,
   "id": "0c777704",
   "metadata": {},
   "outputs": [],
   "source": [
    "\n",
    "# Recrear df_anomalias con los datos\n",
    "df_anomalias = pl.DataFrame({\n",
    "    'titulo': titulos_info['titulo'].to_list(),\n",
    "    'N_titulares': titulos_info['N_titulares'].to_list(),\n",
    "    'Score': [None] * len(titulos_info),\n",
    "    'Diferente_titular': [None] * len(titulos_info),\n",
    "    'Caracteres_distintos': [None]* len(titulos_info),\n",
    "    'Cambios_en_20_periodos': periodos_info['N_cambios_ultimo_registro'].to_list(), # Cuantas veces aparece el registro en los 20 periodos\n",
    "    'Periodos': periodos_info['periodos_presentes'].to_list(), # aqui se ponen los periodos en los que hubieron cambios.\n",
    "    'Cantidad_periodos': periodos_info['cantidad_periodos'].to_list(), #Cuantos periodos hay en total en dicho registro\n",
    "    'Anomalia_V_Total': volumenes_totales_info['cambios_volumen'].to_list(),\n",
    "    'Anomalia_V_Subterraneo': volumenes_totales_info['cambios_volumen_subterraneo'].to_list(),\n",
    "    'Anomalia_V_Superficial': volumenes_totales_info['cambios_volumen_superficial'].to_list()\n",
    "})"
   ]
  },
  {
   "cell_type": "code",
   "execution_count": 16,
   "id": "6643c453",
   "metadata": {},
   "outputs": [
    {
     "data": {
      "text/plain": [
       "'\\ndef length_prefilter(a: str, b: str, base_abs: int = 5, rel_long: float = 0.50) -> bool:\\n    # Semántica: devuelve True si las longitudes son tan distintas\\n    # que podemos DESCARTAR el par sin seguir a métodos léxicos.\\n    L1 = len(a or \"\")\\n    L2 = len(b or \"\")\\n    Lmax = max(L1, L2)\\n    if Lmax <= 3:\\n        return False  # no decidas por longitud cuando son ultra cortos\\n\\n    # Umbral absoluto dinámico (20% de Lmax, al menos base_abs)\\n    abs_thr = max(base_abs, int(round(0.20 * Lmax)))\\n\\n    # Umbral relativo: más exigente en cortos\\n    rel_thr = 0.40 if Lmax < 10 else rel_long  # p.ej. 0.40 para cortos, 0.50 para largos\\n\\n    gap_abs = abs(L1 - L2)\\n    gap_rel = gap_abs / Lmax\\n\\n    return (gap_abs > abs_thr) and (gap_rel > rel_thr)\\n'"
      ]
     },
     "execution_count": 16,
     "metadata": {},
     "output_type": "execute_result"
    }
   ],
   "source": [
    "'''\n",
    "def length_prefilter(a: str, b: str, base_abs: int = 5, rel_long: float = 0.50) -> bool:\n",
    "    # Semántica: devuelve True si las longitudes son tan distintas\n",
    "    # que podemos DESCARTAR el par sin seguir a métodos léxicos.\n",
    "    L1 = len(a or \"\")\n",
    "    L2 = len(b or \"\")\n",
    "    Lmax = max(L1, L2)\n",
    "    if Lmax <= 3:\n",
    "        return False  # no decidas por longitud cuando son ultra cortos\n",
    "\n",
    "    # Umbral absoluto dinámico (20% de Lmax, al menos base_abs)\n",
    "    abs_thr = max(base_abs, int(round(0.20 * Lmax)))\n",
    "\n",
    "    # Umbral relativo: más exigente en cortos\n",
    "    rel_thr = 0.40 if Lmax < 10 else rel_long  # p.ej. 0.40 para cortos, 0.50 para largos\n",
    "\n",
    "    gap_abs = abs(L1 - L2)\n",
    "    gap_rel = gap_abs / Lmax\n",
    "\n",
    "    return (gap_abs > abs_thr) and (gap_rel > rel_thr)\n",
    "'''"
   ]
  },
  {
   "cell_type": "code",
   "execution_count": 17,
   "id": "50492477",
   "metadata": {},
   "outputs": [
    {
     "data": {
      "text/plain": [
       "'\\ndef score_y_clase(a:str, b:str):\\n    # Pre-filtrado por longitud\\n    if length_prefilter(a, b):\\n        return 0, 0\\n    else:\\n        #metricas\\n        ts = fuzz.token_set_ratio(a, b)\\n        jw = jellyfish.jaro_winkler_similarity(a, b) * 100\\n        score = (ts + jw) / 2\\n        #reglas    \\n        if ts >= 96 or (ts >= 93 and jw >= 93):\\n            clase = 1 #iguales\\n        elif ts < 90 or (ts < 85 and jw < 88):\\n            clase = 0 #diferentes\\n        else:\\n            clase = 2 \\n    return score, clase\\n'"
      ]
     },
     "execution_count": 17,
     "metadata": {},
     "output_type": "execute_result"
    }
   ],
   "source": [
    "'''\n",
    "def score_y_clase(a:str, b:str):\n",
    "    # Pre-filtrado por longitud\n",
    "    if length_prefilter(a, b):\n",
    "        return 0, 0\n",
    "    else:\n",
    "        #metricas\n",
    "        ts = fuzz.token_set_ratio(a, b)\n",
    "        jw = jellyfish.jaro_winkler_similarity(a, b) * 100\n",
    "        score = (ts + jw) / 2\n",
    "        #reglas    \n",
    "        if ts >= 96 or (ts >= 93 and jw >= 93):\n",
    "            clase = 1 #iguales\n",
    "        elif ts < 90 or (ts < 85 and jw < 88):\n",
    "            clase = 0 #diferentes\n",
    "        else:\n",
    "            clase = 2 \n",
    "    return score, clase\n",
    "'''"
   ]
  },
  {
   "cell_type": "code",
   "execution_count": 18,
   "id": "990c1d51",
   "metadata": {},
   "outputs": [],
   "source": [
    "def score_y_clase_wrapper(a: str, b: str):\n",
    "    \"\"\"Wrapper para usar MetodoLexico en lugar de la función score_y_clase\"\"\"\n",
    "    metodo = MetodoLexico.MetodoLexico(a, b)\n",
    "    return metodo.score_y_clase()\n"
   ]
  },
  {
   "cell_type": "code",
   "execution_count": 19,
   "id": "636dc646",
   "metadata": {},
   "outputs": [],
   "source": [
    "def get_all_metrics(a: str, b: str):\n",
    "    \"\"\"Función que retorna todos los valores de una vez para evitar múltiples instanciaciones\"\"\"\n",
    "    metodo = MetodoLexico.MetodoLexico(a, b)\n",
    "    score, clase, caracteres_conflictivos = metodo.score_y_clase()\n",
    "    return (score, clase, caracteres_conflictivos)\n"
   ]
  },
  {
   "cell_type": "code",
   "execution_count": 20,
   "id": "63644f1d",
   "metadata": {},
   "outputs": [],
   "source": [
    "# Títulos con exactamente 2 titulares únicos\n",
    "tit2 = (\n",
    "    df_concesiones\n",
    "    .select(['titulo','titular'])\n",
    "    .unique()\n",
    "    .group_by('titulo')\n",
    "    .agg(pl.col('titular').unique().alias('titulares'))\n",
    "    .with_columns(pl.col('titulares').list.len().alias('N_titulares'))\n",
    "    .filter(pl.col('N_titulares') == 2)\n",
    ")\n",
    "\n",
    "# Extrae pares (t1, t2)\n",
    "tit2_pairs = tit2.with_columns([\n",
    "    pl.col('titulares').list.get(0).alias('titular1'),\n",
    "    pl.col('titulares').list.get(1).alias('titular2')\n",
    "]).select(['titulo','titular1','titular2'])"
   ]
  },
  {
   "cell_type": "code",
   "execution_count": 21,
   "id": "b9356d42",
   "metadata": {},
   "outputs": [
    {
     "name": "stderr",
     "output_type": "stream",
     "text": [
      "/tmp/ipykernel_18284/3898457111.py:8: MapWithoutReturnDtypeWarning: 'return_dtype' of function python_udf must be set\n",
      "\n",
      "A later expression might fail because the output type is not known. Set return_dtype=pl.self_dtype() if the type is unchanged, or set the proper output data type.\n",
      "  .with_columns([\n"
     ]
    }
   ],
   "source": [
    "tit2_scored = (\n",
    "    tit2_pairs.with_columns([\n",
    "        pl.struct(['titular1','titular2']).map_elements(\n",
    "            lambda s: get_all_metrics(s['titular1'], s['titular2']),\n",
    "            return_dtype=pl.Object  # <- importante si all_metrics es tuple/list\n",
    "        ).alias('all_metrics')\n",
    "    ])\n",
    "    .with_columns([\n",
    "        pl.col('all_metrics').map_elements(lambda x: x[0]).alias('Score'),\n",
    "        pl.col('all_metrics').map_elements(lambda x: x[1]).alias('Diferente_titular'),\n",
    "        pl.col('all_metrics').map_elements(lambda x: x[2]).alias('Caracteres_distintos'),\n",
    "    ])\n",
    "    .drop('all_metrics')\n",
    ")\n"
   ]
  },
  {
   "cell_type": "code",
   "execution_count": 22,
   "id": "58b1285e",
   "metadata": {},
   "outputs": [],
   "source": [
    "df_anomalias = (\n",
    "    df_anomalias.drop(['Score','Diferente_titular', 'Caracteres_distintos'])  # Eliminar las columnas anteriores\n",
    "    .join(tit2_scored.select(['titulo','Score','Diferente_titular','Caracteres_distintos']), on='titulo', how='left')  # Incluir Caracteres_distintos\n",
    "    .select([\n",
    "        'titulo',\n",
    "        'N_titulares',\n",
    "        'Score',\n",
    "        'Diferente_titular',\n",
    "        'Caracteres_distintos',\n",
    "        'Cambios_en_20_periodos',\n",
    "        'Periodos',\n",
    "        'Cantidad_periodos',\n",
    "        'Anomalia_V_Total',\n",
    "        'Anomalia_V_Subterraneo',\n",
    "        'Anomalia_V_Superficial'\n",
    "    ])\n",
    ")"
   ]
  },
  {
   "cell_type": "code",
   "execution_count": 23,
   "id": "647e3339",
   "metadata": {},
   "outputs": [],
   "source": [
    "\n",
    "# fechas = df_concesiones.select('ultimo_registro').unique().sort('ultimo_registro')\n",
    "# titulos_list = df_concesiones.group_by('titulo').agg(pl.count()).sort('count', descending=True)\n",
    "# nombres_unicos_en_titulares = df_concesiones.sort('titular').select('titular').unique()\n",
    "# Distribución de títulos por frecuencia\n",
    "#dist_titulos_list = titulos_list.group_by('count').agg(pl.count().alias('frequency')).sort('count',descending=True)"
   ]
  },
  {
   "cell_type": "code",
   "execution_count": 24,
   "id": "18bef5b9",
   "metadata": {},
   "outputs": [
    {
     "data": {
      "text/plain": [
       "\"\\nplt.bar(dist_titulos_list['count'].to_list(), dist_titulos_list['frequency'].to_list())\\nplt.yscale('log')\\nplt.show()\\n\""
      ]
     },
     "execution_count": 24,
     "metadata": {},
     "output_type": "execute_result"
    }
   ],
   "source": [
    "'''\n",
    "plt.bar(dist_titulos_list['count'].to_list(), dist_titulos_list['frequency'].to_list())\n",
    "plt.yscale('log')\n",
    "plt.show()\n",
    "'''"
   ]
  },
  {
   "cell_type": "markdown",
   "id": "58c77529",
   "metadata": {},
   "source": [
    "---\n",
    "## Analizar anomalias de la forma en la que se distribuyen los volumnes de agua de acuerdo a lo reportado en df_subterraneas y df_superficiales\n",
    "---"
   ]
  },
  {
   "cell_type": "code",
   "execution_count": 25,
   "id": "e19fa80e",
   "metadata": {},
   "outputs": [],
   "source": [
    "df_subterraneas = data_loader.load_subterraneas()"
   ]
  },
  {
   "cell_type": "code",
   "execution_count": 26,
   "id": "ec4de11e",
   "metadata": {},
   "outputs": [
    {
     "data": {
      "text/html": [
       "<div><style>\n",
       ".dataframe > thead > tr,\n",
       ".dataframe > tbody > tr {\n",
       "  text-align: right;\n",
       "  white-space: pre-wrap;\n",
       "}\n",
       "</style>\n",
       "<small>shape: (4, 18)</small><table border=\"1\" class=\"dataframe\"><thead><tr><th>titulo</th><th>clave_de_region_hidrologica</th><th>nombre_de_region_hidrologica</th><th>clave_de_estado</th><th>nombre_de_estado</th><th>clave_de_municipio</th><th>nombre_de_municipio</th><th>clave_de_cuenca_hidrologica</th><th>nombre_de_cuenca_hidrologica</th><th>volumen_anual_en_m3</th><th>clave_de_acuifero_que_menciona_el_titulo</th><th>acuifero_que_menciona_el_titulo</th><th>numero_de_anexo</th><th>clave_de_acuifero_homologado</th><th>nombre_de_acuifero_homologado</th><th>latitud</th><th>longitud</th><th>ultimo_registro</th></tr><tr><td>str</td><td>f64</td><td>str</td><td>i64</td><td>str</td><td>i64</td><td>str</td><td>i64</td><td>str</td><td>f64</td><td>i64</td><td>str</td><td>i64</td><td>f64</td><td>str</td><td>f64</td><td>f64</td><td>str</td></tr></thead><tbody><tr><td>&quot;08JAL106664/12IMGR98&quot;</td><td>12.0</td><td>&quot;LERMA SANTIAGO&quot;</td><td>14</td><td>&quot;JALISCO&quot;</td><td>53</td><td>&quot;LAGOS DE MORENO&quot;</td><td>11</td><td>&quot;RIO VERDE GRANDE&quot;</td><td>19825.0</td><td>1412</td><td>&quot;9B&nbsp;&nbsp;20 DE NOVIEMBRE&quot;</td><td>1</td><td>1412.0</td><td>&quot;20 DE NOVIEMBRE&quot;</td><td>21.502778</td><td>-102.916389</td><td>&quot;abril 2019&quot;</td></tr><tr><td>&quot;08JAL106664/12IMGR98&quot;</td><td>12.0</td><td>&quot;LERMA SANTIAGO&quot;</td><td>14</td><td>&quot;JALISCO&quot;</td><td>53</td><td>&quot;LAGOS DE MORENO&quot;</td><td>11</td><td>&quot;RIO VERDE GRANDE&quot;</td><td>19825.0</td><td>1412</td><td>&quot;9B&nbsp;&nbsp;20 DE NOVIEMBRE&quot;</td><td>2</td><td>1412.0</td><td>&quot;20 DE NOVIEMBRE&quot;</td><td>21.513333</td><td>-102.914167</td><td>&quot;abril 2019&quot;</td></tr><tr><td>&quot;08JAL106664/12IMGR98&quot;</td><td>12.0</td><td>&quot;LERMA SANTIAGO&quot;</td><td>14</td><td>&quot;JALISCO&quot;</td><td>53</td><td>&quot;LAGOS DE MORENO&quot;</td><td>11</td><td>&quot;RIO VERDE GRANDE&quot;</td><td>19825.0</td><td>1412</td><td>&quot;9B&nbsp;&nbsp;20 DE NOVIEMBRE&quot;</td><td>1</td><td>1412.0</td><td>&quot;20 DE NOVIEMBRE&quot;</td><td>21.502778</td><td>-102.916389</td><td>&quot;octubre 2019&quot;</td></tr><tr><td>&quot;08JAL106664/12IMGR98&quot;</td><td>12.0</td><td>&quot;LERMA SANTIAGO&quot;</td><td>14</td><td>&quot;JALISCO&quot;</td><td>53</td><td>&quot;LAGOS DE MORENO&quot;</td><td>11</td><td>&quot;RIO VERDE GRANDE&quot;</td><td>19825.0</td><td>1412</td><td>&quot;9B&nbsp;&nbsp;20 DE NOVIEMBRE&quot;</td><td>2</td><td>1412.0</td><td>&quot;20 DE NOVIEMBRE&quot;</td><td>21.513333</td><td>-102.914167</td><td>&quot;octubre 2019&quot;</td></tr></tbody></table></div>"
      ],
      "text/plain": [
       "shape: (4, 18)\n",
       "┌───────────┬───────────┬───────────┬───────────┬───┬───────────┬───────────┬───────────┬──────────┐\n",
       "│ titulo    ┆ clave_de_ ┆ nombre_de ┆ clave_de_ ┆ … ┆ nombre_de ┆ latitud   ┆ longitud  ┆ ultimo_r │\n",
       "│ ---       ┆ region_hi ┆ _region_h ┆ estado    ┆   ┆ _acuifero ┆ ---       ┆ ---       ┆ egistro  │\n",
       "│ str       ┆ drologica ┆ idrologic ┆ ---       ┆   ┆ _homologa ┆ f64       ┆ f64       ┆ ---      │\n",
       "│           ┆ ---       ┆ a         ┆ i64       ┆   ┆ do        ┆           ┆           ┆ str      │\n",
       "│           ┆ f64       ┆ ---       ┆           ┆   ┆ ---       ┆           ┆           ┆          │\n",
       "│           ┆           ┆ str       ┆           ┆   ┆ str       ┆           ┆           ┆          │\n",
       "╞═══════════╪═══════════╪═══════════╪═══════════╪═══╪═══════════╪═══════════╪═══════════╪══════════╡\n",
       "│ 08JAL1066 ┆ 12.0      ┆ LERMA     ┆ 14        ┆ … ┆ 20 DE     ┆ 21.502778 ┆ -102.9163 ┆ abril    │\n",
       "│ 64/12IMGR ┆           ┆ SANTIAGO  ┆           ┆   ┆ NOVIEMBRE ┆           ┆ 89        ┆ 2019     │\n",
       "│ 98        ┆           ┆           ┆           ┆   ┆           ┆           ┆           ┆          │\n",
       "│ 08JAL1066 ┆ 12.0      ┆ LERMA     ┆ 14        ┆ … ┆ 20 DE     ┆ 21.513333 ┆ -102.9141 ┆ abril    │\n",
       "│ 64/12IMGR ┆           ┆ SANTIAGO  ┆           ┆   ┆ NOVIEMBRE ┆           ┆ 67        ┆ 2019     │\n",
       "│ 98        ┆           ┆           ┆           ┆   ┆           ┆           ┆           ┆          │\n",
       "│ 08JAL1066 ┆ 12.0      ┆ LERMA     ┆ 14        ┆ … ┆ 20 DE     ┆ 21.502778 ┆ -102.9163 ┆ octubre  │\n",
       "│ 64/12IMGR ┆           ┆ SANTIAGO  ┆           ┆   ┆ NOVIEMBRE ┆           ┆ 89        ┆ 2019     │\n",
       "│ 98        ┆           ┆           ┆           ┆   ┆           ┆           ┆           ┆          │\n",
       "│ 08JAL1066 ┆ 12.0      ┆ LERMA     ┆ 14        ┆ … ┆ 20 DE     ┆ 21.513333 ┆ -102.9141 ┆ octubre  │\n",
       "│ 64/12IMGR ┆           ┆ SANTIAGO  ┆           ┆   ┆ NOVIEMBRE ┆           ┆ 67        ┆ 2019     │\n",
       "│ 98        ┆           ┆           ┆           ┆   ┆           ┆           ┆           ┆          │\n",
       "└───────────┴───────────┴───────────┴───────────┴───┴───────────┴───────────┴───────────┴──────────┘"
      ]
     },
     "execution_count": 26,
     "metadata": {},
     "output_type": "execute_result"
    }
   ],
   "source": [
    "df_subterraneas.filter(pl.col('titulo') == '08JAL106664/12IMGR98').head(4)"
   ]
  },
  {
   "cell_type": "code",
   "execution_count": 27,
   "id": "ce1d1938",
   "metadata": {},
   "outputs": [
    {
     "data": {
      "text/html": [
       "<div><style>\n",
       ".dataframe > thead > tr,\n",
       ".dataframe > tbody > tr {\n",
       "  text-align: right;\n",
       "  white-space: pre-wrap;\n",
       "}\n",
       "</style>\n",
       "<small>shape: (2, 19)</small><table border=\"1\" class=\"dataframe\"><thead><tr><th>titulo</th><th>titular</th><th>ultimo_registro</th><th>uso_que_ampara_el_titulo</th><th>volumen_de_extraccion_anual_de_aguas_nacionales_que_ampara_el_titulo_en_m3</th><th>aprovechamientos_superficiales_que_ampara_el_titulo</th><th>volumen_de_extraccion_anual_de_aprovechamientos_superficiales_en_m3</th><th>aprovechamientos_subterraneos_que_ampara_el_titulo</th><th>volumen_de_extraccion_anual_de_aprovechamientos_subterraneos_en_m3</th><th>puntos_de_descarga_que_ampara_el_titulo</th><th>volumen_de_descarga_diario_en_m3</th><th>zonas_federales_que_ampara_el_titulo</th><th>superficie_en_m2</th><th>fecha_de_registro</th><th>fecha_de_inicio_de_vigencia</th><th>fecha_de_termino_de_vigencia</th><th>autoridad_que_emite_el_acto</th><th>anio</th><th>mes</th></tr><tr><td>str</td><td>str</td><td>date</td><td>str</td><td>f64</td><td>i64</td><td>f64</td><td>i64</td><td>f64</td><td>i64</td><td>f64</td><td>i64</td><td>f64</td><td>str</td><td>str</td><td>str</td><td>str</td><td>i16</td><td>str</td></tr></thead><tbody><tr><td>&quot;08JAL106664/12IMGR98&quot;</td><td>&quot;METODIO GALLO RODRIGUEZ&quot;</td><td>2019-04-01</td><td>&quot;DIFERENTES USOS&quot;</td><td>39650.0</td><td>0</td><td>0.0</td><td>2</td><td>39650.0</td><td>0</td><td>0.0</td><td>0</td><td>0.0</td><td>&quot;1998-01-27&quot;</td><td>null</td><td>null</td><td>null</td><td>2019</td><td>&quot;4&quot;</td></tr><tr><td>&quot;08JAL106664/12IMGR98&quot;</td><td>&quot;METODIO GALLO RODRIGUEZ&quot;</td><td>2019-10-01</td><td>&quot;DIFERENTES USOS&quot;</td><td>39650.0</td><td>0</td><td>0.0</td><td>2</td><td>39650.0</td><td>0</td><td>0.0</td><td>0</td><td>0.0</td><td>&quot;1998-01-27&quot;</td><td>null</td><td>null</td><td>null</td><td>2019</td><td>&quot;10&quot;</td></tr></tbody></table></div>"
      ],
      "text/plain": [
       "shape: (2, 19)\n",
       "┌─────────────┬─────────────┬─────────────┬─────────────┬───┬────────────┬────────────┬──────┬─────┐\n",
       "│ titulo      ┆ titular     ┆ ultimo_regi ┆ uso_que_amp ┆ … ┆ fecha_de_t ┆ autoridad_ ┆ anio ┆ mes │\n",
       "│ ---         ┆ ---         ┆ stro        ┆ ara_el_titu ┆   ┆ ermino_de_ ┆ que_emite_ ┆ ---  ┆ --- │\n",
       "│ str         ┆ str         ┆ ---         ┆ lo          ┆   ┆ vigencia   ┆ el_acto    ┆ i16  ┆ str │\n",
       "│             ┆             ┆ date        ┆ ---         ┆   ┆ ---        ┆ ---        ┆      ┆     │\n",
       "│             ┆             ┆             ┆ str         ┆   ┆ str        ┆ str        ┆      ┆     │\n",
       "╞═════════════╪═════════════╪═════════════╪═════════════╪═══╪════════════╪════════════╪══════╪═════╡\n",
       "│ 08JAL106664 ┆ METODIO     ┆ 2019-04-01  ┆ DIFERENTES  ┆ … ┆ null       ┆ null       ┆ 2019 ┆ 4   │\n",
       "│ /12IMGR98   ┆ GALLO       ┆             ┆ USOS        ┆   ┆            ┆            ┆      ┆     │\n",
       "│             ┆ RODRIGUEZ   ┆             ┆             ┆   ┆            ┆            ┆      ┆     │\n",
       "│ 08JAL106664 ┆ METODIO     ┆ 2019-10-01  ┆ DIFERENTES  ┆ … ┆ null       ┆ null       ┆ 2019 ┆ 10  │\n",
       "│ /12IMGR98   ┆ GALLO       ┆             ┆ USOS        ┆   ┆            ┆            ┆      ┆     │\n",
       "│             ┆ RODRIGUEZ   ┆             ┆             ┆   ┆            ┆            ┆      ┆     │\n",
       "└─────────────┴─────────────┴─────────────┴─────────────┴───┴────────────┴────────────┴──────┴─────┘"
      ]
     },
     "execution_count": 27,
     "metadata": {},
     "output_type": "execute_result"
    }
   ],
   "source": [
    "df_concesiones.filter(pl.col('titulo') == '08JAL106664/12IMGR98').head(2)"
   ]
  },
  {
   "cell_type": "code",
   "execution_count": 28,
   "id": "ef0af935",
   "metadata": {},
   "outputs": [],
   "source": [
    "df_superficiales = data_loader.load_superficiales()"
   ]
  },
  {
   "cell_type": "markdown",
   "id": "21408eca",
   "metadata": {},
   "source": [
    "### Primero comparamos el numero de titulos de cada dataset y vemos que disntan entre si"
   ]
  },
  {
   "cell_type": "code",
   "execution_count": 29,
   "id": "3fe0b01e",
   "metadata": {},
   "outputs": [
    {
     "name": "stdout",
     "output_type": "stream",
     "text": [
      "\n",
      "TÍTULOS ÚNICOS EN CADA DATAFRAME\n",
      "Títulos únicos en df_concesiones: 592469\n",
      "Títulos únicos en df_subterraneas: 356989\n",
      "Títulos únicos en df_superficiales: 130314\n",
      "\n",
      "Títulos que aparecen en concesiones Y subterráneas: 356988\n",
      "Títulos que aparecen en concesiones Y superficiales: 130314\n",
      "Títulos que aparecen en los TRES dataframes: 909\n",
      "\n",
      " Es decir hay 909 títulos que tienen ambos tipos de suministro, superficial y subterráneo.\n",
      " Concesiones que solo tienen un suministro subterráneo: 356988\n",
      " Concesiones que solo tienen un suministro superficial: 130314\n"
     ]
    }
   ],
   "source": [
    "print(\"\\nTÍTULOS ÚNICOS EN CADA DATAFRAME\")\n",
    "titulos_concesiones = set(df_concesiones.select('titulo').unique().to_series().to_list())\n",
    "titulos_subterraneas = set(df_subterraneas.select('titulo').unique().to_series().to_list())\n",
    "titulos_superficiales = set(df_superficiales.select('titulo').unique().to_series().to_list())\n",
    "\n",
    "print(f\"Títulos únicos en df_concesiones: {len(titulos_concesiones)}\")\n",
    "print(f\"Títulos únicos en df_subterraneas: {len(titulos_subterraneas)}\")\n",
    "print(f\"Títulos únicos en df_superficiales: {len(titulos_superficiales)}\")\n",
    "\n",
    "# Intersecciones\n",
    "titulos_en_subterraneas_y_concesiones = titulos_concesiones.intersection(titulos_subterraneas)\n",
    "titulos_en_superficiales_y_concesiones = titulos_concesiones.intersection(titulos_superficiales)\n",
    "titulos_en_todos = titulos_concesiones.intersection(titulos_subterraneas).intersection(titulos_superficiales)\n",
    "\n",
    "print(f\"\\nTítulos que aparecen en concesiones Y subterráneas: {len(titulos_en_subterraneas_y_concesiones)}\")\n",
    "print(f\"Títulos que aparecen en concesiones Y superficiales: {len(titulos_en_superficiales_y_concesiones)}\")\n",
    "print(f\"Títulos que aparecen en los TRES dataframes: {len(titulos_en_todos)}\")\n",
    "\n",
    "print(f'\\n Es decir hay {len(titulos_en_todos)} títulos que tienen ambos tipos de suministro, superficial y subterráneo.')\n",
    "print(f' Concesiones que solo tienen un suministro subterráneo: {len(titulos_en_subterraneas_y_concesiones)}')\n",
    "print(f' Concesiones que solo tienen un suministro superficial: {len(titulos_en_superficiales_y_concesiones)}')\n"
   ]
  },
  {
   "cell_type": "code",
   "execution_count": 30,
   "id": "1d933fa2",
   "metadata": {},
   "outputs": [],
   "source": [
    "# Procesar fechas en los dataframes subterráneas y superficiales (similar a concesiones)\n",
    "df_subterraneas = manipulator.date_string_to_date(df_subterraneas)\n",
    "df_superficiales = manipulator.date_string_to_date(df_superficiales)\n",
    "\n",
    "# Truncar fechas para consistencia\n",
    "df_subterraneas = df_subterraneas.with_columns(\n",
    "    pl.col('ultimo_registro').dt.date().alias('ultimo_registro')\n",
    ")\n",
    "df_superficiales = df_superficiales.with_columns(\n",
    "    pl.col('ultimo_registro').dt.date().alias('ultimo_registro')\n",
    ")"
   ]
  },
  {
   "cell_type": "code",
   "execution_count": 31,
   "id": "1d703ddd",
   "metadata": {},
   "outputs": [],
   "source": [
    "# ANÁLISIS DE COMPARACIÓN DE APROVECHAMIENTOS Y VOLÚMENES POR TÍTULO\n",
    "\n",
    "def comparar_aprovechamientos_y_volumenes(titulos_concesiones,titulos_subterraneas,titulos_superficiales):\n",
    "    \"\"\"\n",
    "    Compara los aprovechamientos y volúmenes entre df_concesiones, df_subterraneas y df_superficiales\n",
    "    por título a lo largo de los períodos.\n",
    "    \"\"\"\n",
    "    \n",
    "    # Identificar columnas de volumen en cada dataframe\n",
    "    vol_cols_concesiones = [col for col in df_concesiones.columns if 'volumen' in col.lower()]\n",
    "    vol_cols_subterraneas = [col for col in df_subterraneas.columns if 'volumen' in col.lower()]\n",
    "    vol_cols_superficiales = [col for col in df_superficiales.columns if 'volumen' in col.lower()]\n",
    "\n",
    "    print(\"COLUMNAS RELACIONADAS CON EL VOLUMEN\")\n",
    "    print(\"df_concesiones:\")\n",
    "    for col in vol_cols_concesiones:\n",
    "        print(f\"  - {col}\")\n",
    "    print(\"\\ndf_subterraneas:\")\n",
    "    for col in vol_cols_subterraneas:\n",
    "        print(f\"  - {col}\")\n",
    "    print(\"\\ndf_superficiales:\")\n",
    "    for col in vol_cols_superficiales:\n",
    "        print(f\"  - {col}\")\n",
    "    \n",
    "    \n",
    "    # Títulos para comparables\n",
    "    titulos_sub_vs_conc = titulos_concesiones.intersection(titulos_subterraneas)\n",
    "    titulos_sup_vs_conc = titulos_concesiones.intersection(titulos_superficiales)\n",
    "    \n",
    "    print(f\"\\nCantidad de titulos compalabres\")\n",
    "    print(f\"Títulos en concesiones Y subterráneas: {len(titulos_sub_vs_conc)}\")\n",
    "    print(f\"Títulos en concesiones Y superficiales: {len(titulos_sup_vs_conc)}\")\n",
    "    \n",
    "    return titulos_sub_vs_conc, titulos_sup_vs_conc, vol_cols_concesiones, vol_cols_subterraneas, vol_cols_superficiales\n",
    "\n",
    "# Ejecutar análisis inicial\n"
   ]
  },
  {
   "cell_type": "code",
   "execution_count": 32,
   "id": "d9fe1b10",
   "metadata": {},
   "outputs": [
    {
     "name": "stdout",
     "output_type": "stream",
     "text": [
      "COLUMNAS RELACIONADAS CON EL VOLUMEN\n",
      "df_concesiones:\n",
      "  - volumen_de_extraccion_anual_de_aguas_nacionales_que_ampara_el_titulo_en_m3\n",
      "  - volumen_de_extraccion_anual_de_aprovechamientos_superficiales_en_m3\n",
      "  - volumen_de_extraccion_anual_de_aprovechamientos_subterraneos_en_m3\n",
      "  - volumen_de_descarga_diario_en_m3\n",
      "\n",
      "df_subterraneas:\n",
      "  - volumen_anual_en_m3\n",
      "\n",
      "df_superficiales:\n",
      "  - volumen_anual_en_m3\n",
      "\n",
      "Cantidad de titulos compalabres\n",
      "Títulos en concesiones Y subterráneas: 356988\n",
      "Títulos en concesiones Y superficiales: 130314\n"
     ]
    }
   ],
   "source": [
    "titulos_sub_vs_conc, titulos_sup_vs_conc, vol_cols_concesiones, vol_cols_subterraneas, vol_cols_superficiales = comparar_aprovechamientos_y_volumenes(titulos_concesiones,titulos_subterraneas,titulos_superficiales)"
   ]
  },
  {
   "cell_type": "code",
   "execution_count": 33,
   "id": "28ae14e7",
   "metadata": {},
   "outputs": [],
   "source": [
    "# ANÁLISIS DETALLADO DE INCONSISTENCIAS\n",
    "\n",
    "def analizar_inconsistencias_subterraneas():\n",
    "    \"\"\"\n",
    "    Compara df_concesiones vs df_subterraneas para el mismo título y período\n",
    "    \"\"\"\n",
    "    print(\"ANÁLISIS DE INCONSISTENCIAS: CONCESIONES vs SUBTERRÁNEAS (MISMO  TITULO Y PERIODO)\")\n",
    "    \n",
    "    # Preparar datos para comparación\n",
    "    concesiones_sub = df_concesiones.filter(\n",
    "        pl.col('titulo').is_in(list(titulos_sub_vs_conc)) #Filtramos para los titulos comparables\n",
    "    ).select([\n",
    "        'titulo', \n",
    "        'ultimo_registro', \n",
    "        'volumen_de_extraccion_anual_de_aprovechamientos_subterraneos_en_m3'\n",
    "    ]).rename({\n",
    "        'volumen_de_extraccion_anual_de_aprovechamientos_subterraneos_en_m3': 'vol_subterraneo_concesiones_anual'\n",
    "    })\n",
    "    \n",
    "    subterraneas_comp = df_subterraneas.select([\n",
    "        'titulo', \n",
    "        'ultimo_registro', \n",
    "        'volumen_anual_en_m3'\n",
    "    ]).group_by(['titulo','ultimo_registro']).agg([\n",
    "        pl.col('volumen_anual_en_m3').cast(pl.Float64, strict=False).sum().alias('vol_subterraneo_directo_anual')\n",
    "    ])\n",
    "    \n",
    "    # Join para comparar\n",
    "    comparacion_vol_subterranea = concesiones_sub.join(\n",
    "        subterraneas_comp, \n",
    "        on=['titulo', 'ultimo_registro'],  #join solo en estos campos  que coincidan \n",
    "        how='inner'\n",
    "    ).with_columns([\n",
    "        # Convertir a numérico y manejar nulos\n",
    "        pl.when(pl.col('vol_subterraneo_concesiones_anual').is_null())\n",
    "        .then(0.0)\n",
    "        .otherwise(pl.col('vol_subterraneo_concesiones_anual').cast(pl.Float64, strict=False))\n",
    "        .alias('vol_conc_num'), #Se crea esta columna para el volumen subterráneo de _concesiones\n",
    "\n",
    "        pl.when(pl.col('vol_subterraneo_directo_anual').is_null())\n",
    "        .then(0.0)\n",
    "        .otherwise(pl.col('vol_subterraneo_directo_anual').cast(pl.Float64, strict=False))\n",
    "        .alias('vol_sub_num') #Se crea esta columna para el volumen subterráneo de reportados\n",
    "    ]).with_columns([\n",
    "        # Calcular diferencias \n",
    "        (pl.col('vol_conc_num') - pl.col('vol_sub_num')).alias('diferencia_volumen'),\n",
    "        pl.when(pl.col('vol_conc_num') == pl.col('vol_sub_num'))\n",
    "        .then(True)\n",
    "        .otherwise(False)\n",
    "        .alias('volumenes_coinciden')\n",
    "    ])\n",
    "    #La función height de polars te da el número de filas \n",
    "    total_registros = comparacion_vol_subterranea.height\n",
    "    registros_coinciden = comparacion_vol_subterranea.filter(pl.col('volumenes_coinciden')).height\n",
    "    registros_difieren = total_registros - registros_coinciden\n",
    "    \n",
    "    print(f\"Total de registros comparables: {total_registros:,}\")\n",
    "    print(f\"Registros con volúmenes coincidentes: {registros_coinciden:,} ({registros_coinciden/total_registros*100:.2f}%)\")\n",
    "    print(f\"Registros con volúmenes diferentes: {registros_difieren:,} ({registros_difieren/total_registros*100:.2f}%)\")\n",
    "    \n",
    "    return comparacion_vol_subterranea"
   ]
  },
  {
   "cell_type": "code",
   "execution_count": 34,
   "id": "68fc915b",
   "metadata": {},
   "outputs": [],
   "source": [
    "def analizar_inconsistencias_superficiales():\n",
    "    \"\"\"\n",
    "    Compara df_concesiones vs df_superficiales para el mismo título y período\n",
    "    \"\"\"\n",
    "    print(\"\\nANÁLISIS DE INCONSISTENCIAS: CONCESIONES vs SUPERFICIALES(MISMO  TITULO Y PERIODO)\")\n",
    "    \n",
    "    # Preparar datos para comparación\n",
    "    concesiones_sup = df_concesiones.filter(\n",
    "        pl.col('titulo').is_in(list(titulos_sup_vs_conc))\n",
    "    ).select([\n",
    "        'titulo', \n",
    "        'ultimo_registro', \n",
    "        'volumen_de_extraccion_anual_de_aprovechamientos_superficiales_en_m3'\n",
    "    ]).rename({\n",
    "        'volumen_de_extraccion_anual_de_aprovechamientos_superficiales_en_m3': 'vol_superficial_concesiones'\n",
    "    })\n",
    "    \n",
    "    superficiales_comp = df_superficiales.select([\n",
    "        'titulo', \n",
    "        'ultimo_registro', \n",
    "        'volumen_anual_en_m3'\n",
    "    ]).group_by(['titulo','ultimo_registro']).agg([\n",
    "        pl.col('volumen_anual_en_m3').cast(pl.Float64, strict=False).sum().alias('vol_superficial_directo')\n",
    "    ])\n",
    "\n",
    "    # Join para comparar\n",
    "    comparacion_vol_superficial = concesiones_sup.join(\n",
    "        superficiales_comp, \n",
    "        on=['titulo', 'ultimo_registro'], \n",
    "        how='inner'\n",
    "    ).with_columns([\n",
    "        # Convertir a numérico y manejar nulos\n",
    "        pl.when(pl.col('vol_superficial_concesiones').is_null())\n",
    "        .then(0.0)\n",
    "        .otherwise(pl.col('vol_superficial_concesiones').cast(pl.Float64, strict=False))\n",
    "        .alias('vol_conc_num'),\n",
    "        \n",
    "        pl.when(pl.col('vol_superficial_directo').is_null())\n",
    "        .then(0.0)\n",
    "        .otherwise(pl.col('vol_superficial_directo').cast(pl.Float64, strict=False))\n",
    "        .alias('vol_sup_num')\n",
    "    ]).with_columns([\n",
    "        # Calcular diferencias\n",
    "        (pl.col('vol_conc_num') - pl.col('vol_sup_num')).alias('diferencia_volumen'),\n",
    "        pl.when(pl.col('vol_conc_num') == pl.col('vol_sup_num'))\n",
    "        .then(True)\n",
    "        .otherwise(False)\n",
    "        .alias('volumenes_coinciden')\n",
    "    ])\n",
    "    \n",
    "    total_registros = comparacion_vol_superficial.height\n",
    "    registros_coinciden = comparacion_vol_superficial.filter(pl.col('volumenes_coinciden')).height\n",
    "    registros_difieren = total_registros - registros_coinciden\n",
    "    \n",
    "    print(f\"Total de registros comparables: {total_registros:,}\")\n",
    "    print(f\"Registros con volúmenes coincidentes: {registros_coinciden:,} ({registros_coinciden/total_registros*100:.2f}%)\")\n",
    "    print(f\"Registros con volúmenes diferentes: {registros_difieren:,} ({registros_difieren/total_registros*100:.2f}%)\")\n",
    "    \n",
    "    return comparacion_vol_superficial\n",
    "\n"
   ]
  },
  {
   "cell_type": "code",
   "execution_count": 35,
   "id": "39cc6894",
   "metadata": {},
   "outputs": [
    {
     "name": "stdout",
     "output_type": "stream",
     "text": [
      "ANÁLISIS DE INCONSISTENCIAS: CONCESIONES vs SUBTERRÁNEAS (MISMO  TITULO Y PERIODO)\n",
      "Total de registros comparables: 5,994,892\n",
      "Registros con volúmenes coincidentes: 5,969,240 (99.57%)\n",
      "Registros con volúmenes diferentes: 25,652 (0.43%)\n"
     ]
    }
   ],
   "source": [
    "# Ejecutar análisis\n",
    "comp_subterraneas = analizar_inconsistencias_subterraneas()\n"
   ]
  },
  {
   "cell_type": "code",
   "execution_count": 36,
   "id": "0f4cf008",
   "metadata": {},
   "outputs": [
    {
     "name": "stdout",
     "output_type": "stream",
     "text": [
      "\n",
      "ANÁLISIS DE INCONSISTENCIAS: CONCESIONES vs SUPERFICIALES(MISMO  TITULO Y PERIODO)\n",
      "Total de registros comparables: 2,484,219\n",
      "Registros con volúmenes coincidentes: 2,478,184 (99.76%)\n",
      "Registros con volúmenes diferentes: 6,035 (0.24%)\n"
     ]
    }
   ],
   "source": [
    "comp_superficiales = analizar_inconsistencias_superficiales()"
   ]
  },
  {
   "cell_type": "code",
   "execution_count": null,
   "id": "ebb8e1b0",
   "metadata": {},
   "outputs": [],
   "source": [
    "# Crear métricas de discrepancias binarias para subterráneas\n",
    "discrepancias_sub_binarias = comp_subterraneas.group_by('titulo').agg([\n",
    "    # Si hay al menos una discrepancia, marcar como 1, sino 0\n",
    "    pl.when(pl.col('volumenes_coinciden').sum() < pl.col('volumenes_coinciden').count())\n",
    "    .then(1) #1 si hay un discrepancia\n",
    "    .otherwise(0) #0 si no hay discrepancia\n",
    "    .alias('Discrepancia_V_Subterraneo')\n",
    "])\n",
    "\n",
    "# Crear métricas de discrepancias binarias para superficiales\n",
    "discrepancias_sup_binarias = comp_superficiales.group_by('titulo').agg([\n",
    "    # Si hay al menos una discrepancia, marcar como 1, sino 0\n",
    "    pl.when(pl.col('volumenes_coinciden').sum() < pl.col('volumenes_coinciden').count())\n",
    "    .then(1) #1 si hay un discrepancia\n",
    "    .otherwise(0) #0 si no hay discrepancia\n",
    "    .alias('Discrepancia_V_Superficial')\n",
    "])\n",
    "# Si aparece NULL es que en esos caso el titulo correspondiente no recurre de dicho  tipo de  suministro \n",
    "\n",
    "\n",
    "\n"
   ]
  },
  {
   "cell_type": "code",
   "execution_count": 39,
   "id": "cc6ad098",
   "metadata": {},
   "outputs": [],
   "source": [
    "# Agregar las columnas al df_anomalias\n",
    "df_anomalias = df_anomalias.join(\n",
    "    discrepancias_sub_binarias, \n",
    "    on='titulo', \n",
    "    how='left'\n",
    ").join(\n",
    "    discrepancias_sup_binarias, \n",
    "    on='titulo', \n",
    "    how='left'\n",
    ")"
   ]
  },
  {
   "cell_type": "markdown",
   "id": "d37f378a",
   "metadata": {},
   "source": [
    "---\n",
    "## Análisis de anomlias en el df_concesiones contrastando la suma de suministros con le  total\n",
    "---"
   ]
  },
  {
   "cell_type": "code",
   "execution_count": 40,
   "id": "2c5264cc",
   "metadata": {},
   "outputs": [
    {
     "data": {
      "text/plain": [
       "['titulo',\n",
       " 'titular',\n",
       " 'ultimo_registro',\n",
       " 'uso_que_ampara_el_titulo',\n",
       " 'volumen_de_extraccion_anual_de_aguas_nacionales_que_ampara_el_titulo_en_m3',\n",
       " 'aprovechamientos_superficiales_que_ampara_el_titulo',\n",
       " 'volumen_de_extraccion_anual_de_aprovechamientos_superficiales_en_m3',\n",
       " 'aprovechamientos_subterraneos_que_ampara_el_titulo',\n",
       " 'volumen_de_extraccion_anual_de_aprovechamientos_subterraneos_en_m3',\n",
       " 'puntos_de_descarga_que_ampara_el_titulo',\n",
       " 'volumen_de_descarga_diario_en_m3',\n",
       " 'zonas_federales_que_ampara_el_titulo',\n",
       " 'superficie_en_m2',\n",
       " 'fecha_de_registro',\n",
       " 'fecha_de_inicio_de_vigencia',\n",
       " 'fecha_de_termino_de_vigencia',\n",
       " 'autoridad_que_emite_el_acto',\n",
       " 'anio',\n",
       " 'mes']"
      ]
     },
     "execution_count": 40,
     "metadata": {},
     "output_type": "execute_result"
    }
   ],
   "source": [
    "df_concesiones.columns"
   ]
  },
  {
   "cell_type": "code",
   "execution_count": 42,
   "id": "f8eb066b",
   "metadata": {},
   "outputs": [],
   "source": [
    "inconsistencias_suma_volumenes = df_concesiones.with_columns([\n",
    "    # Convertir a numérico y manejar nulos\n",
    "    pl.when(pl.col('volumen_de_extraccion_anual_de_aprovechamientos_superficiales_en_m3').is_null())\n",
    "    .then(0.0)\n",
    "    .otherwise(pl.col('volumen_de_extraccion_anual_de_aprovechamientos_superficiales_en_m3').cast(pl.Float64, strict=False))\n",
    "    .alias('vol_superficial_num'),\n",
    "    \n",
    "    pl.when(pl.col('volumen_de_extraccion_anual_de_aprovechamientos_subterraneos_en_m3').is_null())\n",
    "    .then(0.0)\n",
    "    .otherwise(pl.col('volumen_de_extraccion_anual_de_aprovechamientos_subterraneos_en_m3').cast(pl.Float64, strict=False))\n",
    "    .alias('vol_subterraneo_num'),\n",
    "    \n",
    "    pl.when(pl.col('volumen_de_extraccion_anual_de_aguas_nacionales_que_ampara_el_titulo_en_m3').is_null())\n",
    "    .then(0.0)\n",
    "    .otherwise(pl.col('volumen_de_extraccion_anual_de_aguas_nacionales_que_ampara_el_titulo_en_m3').cast(pl.Float64, strict=False))\n",
    "    .alias('vol_total_num')\n",
    "]).with_columns([\n",
    "    # Calcular la suma de superficial + subterráneo\n",
    "    (pl.col('vol_superficial_num') + pl.col('vol_subterraneo_num')).alias('suma_volumenes'),\n",
    "    \n",
    "    # Verificar si la suma coincide con el total\n",
    "    pl.when((pl.col('vol_superficial_num') + pl.col('vol_subterraneo_num')) == pl.col('vol_total_num'))\n",
    "    .then(True)\n",
    "    .otherwise(False)\n",
    "    .alias('suma_coincide_con_total')\n",
    "]).select(['titulo', 'ultimo_registro', 'vol_superficial_num', 'vol_subterraneo_num', 'vol_total_num', 'suma_volumenes', 'suma_coincide_con_total'])\n",
    "\n",
    "# Crear métrica binaria por título: 1 si hay al menos una inconsistencia, 0 si todas coinciden\n",
    "discrepancias_suma_binarias = inconsistencias_suma_volumenes.group_by('titulo').agg([\n",
    "    pl.when(pl.col('suma_coincide_con_total').sum() < pl.col('suma_coincide_con_total').count())\n",
    "    .then(1)  # 1 si hay al menos una discrepancia\n",
    "    .otherwise(0)  # 0 si todas las sumas coinciden\n",
    "    .alias('Discrepancia_Suma_Volumenes')\n",
    "])\n",
    "\n",
    "# Agregar la nueva columna al df_anomalias\n",
    "df_anomalias = df_anomalias.join(\n",
    "    discrepancias_suma_binarias,\n",
    "    on='titulo',\n",
    "    how='left'\n",
    ")"
   ]
  }
 ],
 "metadata": {
  "kernelspec": {
   "display_name": "IberoProject1",
   "language": "python",
   "name": "python3"
  },
  "language_info": {
   "codemirror_mode": {
    "name": "ipython",
    "version": 3
   },
   "file_extension": ".py",
   "mimetype": "text/x-python",
   "name": "python",
   "nbconvert_exporter": "python",
   "pygments_lexer": "ipython3",
   "version": "3.10.18"
  }
 },
 "nbformat": 4,
 "nbformat_minor": 5
}
