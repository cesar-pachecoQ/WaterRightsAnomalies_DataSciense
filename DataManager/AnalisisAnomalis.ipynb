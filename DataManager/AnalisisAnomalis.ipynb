{
 "cells": [
  {
   "cell_type": "code",
   "execution_count": 1,
   "id": "aea7199e",
   "metadata": {},
   "outputs": [],
   "source": [
    "import DataLoader\n",
    "from IPython.display import display"
   ]
  },
  {
   "cell_type": "code",
   "execution_count": 2,
   "id": "93e8ad1a",
   "metadata": {},
   "outputs": [],
   "source": [
    "loader = DataLoader.DataLoader(\"../DataSets_CSVs/DataSets_Parquets\")"
   ]
  },
  {
   "cell_type": "code",
   "execution_count": 3,
   "id": "ac8ef4cb",
   "metadata": {},
   "outputs": [],
   "source": [
    "df_concesiones = loader.load_concesiones()"
   ]
  },
  {
   "cell_type": "code",
   "execution_count": null,
   "id": "ffd20a70",
   "metadata": {},
   "outputs": [],
   "source": [
    "df_concesiones.T "
   ]
  },
  {
   "cell_type": "code",
   "execution_count": null,
   "id": "dea780c6",
   "metadata": {},
   "outputs": [],
   "source": []
  }
 ],
 "metadata": {
  "kernelspec": {
   "display_name": "IberoProject1",
   "language": "python",
   "name": "iberoproject1"
  },
  "language_info": {
   "codemirror_mode": {
    "name": "ipython",
    "version": 3
   },
   "file_extension": ".py",
   "mimetype": "text/x-python",
   "name": "python",
   "nbconvert_exporter": "python",
   "pygments_lexer": "ipython3",
   "version": "3.10.18"
  }
 },
 "nbformat": 4,
 "nbformat_minor": 5
}
