{
 "cells": [
  {
   "cell_type": "code",
   "execution_count": 6,
   "id": "38aba2ce",
   "metadata": {},
   "outputs": [],
   "source": [
    "import geopandas as gpd\n",
    "import polars as pl \n",
    "import DataLoader_Polars"
   ]
  },
  {
   "cell_type": "code",
   "execution_count": 4,
   "id": "fa13b4d1",
   "metadata": {},
   "outputs": [],
   "source": [
    "df_cuencuas = gpd.read_file('../DataSets_CSVs/Cuencas_Disponibilidad_2018/Cuencas_Disponibilidad_2018.shp')"
   ]
  },
  {
   "cell_type": "code",
   "execution_count": null,
   "id": "116bd98a",
   "metadata": {},
   "outputs": [],
   "source": [
    "df_acuiferos = gpd.read_file('../DataSets_CSVs/Acuiferos_Disponibilidad_2018/Acuiferos_Disponibilidad_2018.shp')"
   ]
  }
 ],
 "metadata": {
  "kernelspec": {
   "display_name": "IberoProject1",
   "language": "python",
   "name": "python3"
  },
  "language_info": {
   "codemirror_mode": {
    "name": "ipython",
    "version": 3
   },
   "file_extension": ".py",
   "mimetype": "text/x-python",
   "name": "python",
   "nbconvert_exporter": "python",
   "pygments_lexer": "ipython3",
   "version": "3.10.18"
  }
 },
 "nbformat": 4,
 "nbformat_minor": 5
}
