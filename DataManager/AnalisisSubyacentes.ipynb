{
 "cells": [
  {
   "cell_type": "code",
   "execution_count": 1,
   "id": "8342adae",
   "metadata": {},
   "outputs": [],
   "source": [
    "import DataLoader_Polars\n",
    "import polars as pl"
   ]
  },
  {
   "cell_type": "code",
   "execution_count": 2,
   "id": "3f883cd9",
   "metadata": {},
   "outputs": [],
   "source": [
    "data_loader = DataLoader_Polars.DataLoaderPolars(\"../DataSets_CSVs/DataSets_Parquets/\")\n",
    "df_concesiones = data_loader.load_concesiones()"
   ]
  },
  {
   "cell_type": "code",
   "execution_count": null,
   "id": "a60bacc1",
   "metadata": {},
   "outputs": [],
   "source": []
  }
 ],
 "metadata": {
  "kernelspec": {
   "display_name": "IberoProject1",
   "language": "python",
   "name": "python3"
  },
  "language_info": {
   "codemirror_mode": {
    "name": "ipython",
    "version": 3
   },
   "file_extension": ".py",
   "mimetype": "text/x-python",
   "name": "python",
   "nbconvert_exporter": "python",
   "pygments_lexer": "ipython3",
   "version": "3.10.18"
  }
 },
 "nbformat": 4,
 "nbformat_minor": 5
}
